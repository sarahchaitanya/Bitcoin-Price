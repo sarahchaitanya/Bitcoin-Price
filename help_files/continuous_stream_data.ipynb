{
 "cells": [
  {
   "cell_type": "code",
   "execution_count": 1,
   "id": "driving-tackle",
   "metadata": {
    "collapsed": true
   },
   "outputs": [
    {
     "name": "stdout",
     "output_type": "stream",
     "text": [
      "dataset name:live_bitcoin.csv\n"
     ]
    },
    {
     "ename": "JSONDecodeError",
     "evalue": "Expecting value: line 1 column 1 (char 0)",
     "output_type": "error",
     "traceback": [
      "\u001b[1;31m---------------------------------------------------------------------------\u001b[0m",
      "\u001b[1;31mJSONDecodeError\u001b[0m                           Traceback (most recent call last)",
      "\u001b[1;32m<ipython-input-1-ef27cf59fba5>\u001b[0m in \u001b[0;36m<module>\u001b[1;34m\u001b[0m\n\u001b[0;32m     14\u001b[0m \u001b[1;33m\u001b[0m\u001b[0m\n\u001b[0;32m     15\u001b[0m \u001b[1;32mwhile\u001b[0m \u001b[1;32mTrue\u001b[0m\u001b[1;33m:\u001b[0m\u001b[1;33m\u001b[0m\u001b[1;33m\u001b[0m\u001b[0m\n\u001b[1;32m---> 16\u001b[1;33m     \u001b[0mdata\u001b[0m \u001b[1;33m=\u001b[0m \u001b[0mrequests\u001b[0m\u001b[1;33m.\u001b[0m\u001b[0mget\u001b[0m\u001b[1;33m(\u001b[0m\u001b[1;34m\"https://api.coinmarketcap.com/v1/ticker/bitcoin/\"\u001b[0m\u001b[1;33m)\u001b[0m\u001b[1;33m.\u001b[0m\u001b[0mjson\u001b[0m\u001b[1;33m(\u001b[0m\u001b[1;33m)\u001b[0m\u001b[1;33m[\u001b[0m\u001b[1;36m0\u001b[0m\u001b[1;33m]\u001b[0m\u001b[1;33m\u001b[0m\u001b[1;33m\u001b[0m\u001b[0m\n\u001b[0m\u001b[0;32m     17\u001b[0m     \u001b[1;31m#bstamp = requests.get(\"https://www.bitstamp.net/api/v2/ticker/btcusd/\").json()\u001b[0m\u001b[1;33m\u001b[0m\u001b[1;33m\u001b[0m\u001b[1;33m\u001b[0m\u001b[0m\n\u001b[0;32m     18\u001b[0m     \u001b[0mbkc\u001b[0m \u001b[1;33m=\u001b[0m \u001b[0mrequests\u001b[0m\u001b[1;33m.\u001b[0m\u001b[0mget\u001b[0m\u001b[1;33m(\u001b[0m\u001b[1;34m\"https://blockchain.info/ticker\"\u001b[0m\u001b[1;33m)\u001b[0m\u001b[1;33m.\u001b[0m\u001b[0mjson\u001b[0m\u001b[1;33m(\u001b[0m\u001b[1;33m)\u001b[0m\u001b[1;33m\u001b[0m\u001b[1;33m\u001b[0m\u001b[0m\n",
      "\u001b[1;32m~\\anaconda3\\lib\\site-packages\\requests\\models.py\u001b[0m in \u001b[0;36mjson\u001b[1;34m(self, **kwargs)\u001b[0m\n\u001b[0;32m    896\u001b[0m                     \u001b[1;31m# used.\u001b[0m\u001b[1;33m\u001b[0m\u001b[1;33m\u001b[0m\u001b[1;33m\u001b[0m\u001b[0m\n\u001b[0;32m    897\u001b[0m                     \u001b[1;32mpass\u001b[0m\u001b[1;33m\u001b[0m\u001b[1;33m\u001b[0m\u001b[0m\n\u001b[1;32m--> 898\u001b[1;33m         \u001b[1;32mreturn\u001b[0m \u001b[0mcomplexjson\u001b[0m\u001b[1;33m.\u001b[0m\u001b[0mloads\u001b[0m\u001b[1;33m(\u001b[0m\u001b[0mself\u001b[0m\u001b[1;33m.\u001b[0m\u001b[0mtext\u001b[0m\u001b[1;33m,\u001b[0m \u001b[1;33m**\u001b[0m\u001b[0mkwargs\u001b[0m\u001b[1;33m)\u001b[0m\u001b[1;33m\u001b[0m\u001b[1;33m\u001b[0m\u001b[0m\n\u001b[0m\u001b[0;32m    899\u001b[0m \u001b[1;33m\u001b[0m\u001b[0m\n\u001b[0;32m    900\u001b[0m     \u001b[1;33m@\u001b[0m\u001b[0mproperty\u001b[0m\u001b[1;33m\u001b[0m\u001b[1;33m\u001b[0m\u001b[0m\n",
      "\u001b[1;32m~\\anaconda3\\lib\\json\\__init__.py\u001b[0m in \u001b[0;36mloads\u001b[1;34m(s, cls, object_hook, parse_float, parse_int, parse_constant, object_pairs_hook, **kw)\u001b[0m\n\u001b[0;32m    355\u001b[0m             \u001b[0mparse_int\u001b[0m \u001b[1;32mis\u001b[0m \u001b[1;32mNone\u001b[0m \u001b[1;32mand\u001b[0m \u001b[0mparse_float\u001b[0m \u001b[1;32mis\u001b[0m \u001b[1;32mNone\u001b[0m \u001b[1;32mand\u001b[0m\u001b[1;33m\u001b[0m\u001b[1;33m\u001b[0m\u001b[0m\n\u001b[0;32m    356\u001b[0m             parse_constant is None and object_pairs_hook is None and not kw):\n\u001b[1;32m--> 357\u001b[1;33m         \u001b[1;32mreturn\u001b[0m \u001b[0m_default_decoder\u001b[0m\u001b[1;33m.\u001b[0m\u001b[0mdecode\u001b[0m\u001b[1;33m(\u001b[0m\u001b[0ms\u001b[0m\u001b[1;33m)\u001b[0m\u001b[1;33m\u001b[0m\u001b[1;33m\u001b[0m\u001b[0m\n\u001b[0m\u001b[0;32m    358\u001b[0m     \u001b[1;32mif\u001b[0m \u001b[0mcls\u001b[0m \u001b[1;32mis\u001b[0m \u001b[1;32mNone\u001b[0m\u001b[1;33m:\u001b[0m\u001b[1;33m\u001b[0m\u001b[1;33m\u001b[0m\u001b[0m\n\u001b[0;32m    359\u001b[0m         \u001b[0mcls\u001b[0m \u001b[1;33m=\u001b[0m \u001b[0mJSONDecoder\u001b[0m\u001b[1;33m\u001b[0m\u001b[1;33m\u001b[0m\u001b[0m\n",
      "\u001b[1;32m~\\anaconda3\\lib\\json\\decoder.py\u001b[0m in \u001b[0;36mdecode\u001b[1;34m(self, s, _w)\u001b[0m\n\u001b[0;32m    335\u001b[0m \u001b[1;33m\u001b[0m\u001b[0m\n\u001b[0;32m    336\u001b[0m         \"\"\"\n\u001b[1;32m--> 337\u001b[1;33m         \u001b[0mobj\u001b[0m\u001b[1;33m,\u001b[0m \u001b[0mend\u001b[0m \u001b[1;33m=\u001b[0m \u001b[0mself\u001b[0m\u001b[1;33m.\u001b[0m\u001b[0mraw_decode\u001b[0m\u001b[1;33m(\u001b[0m\u001b[0ms\u001b[0m\u001b[1;33m,\u001b[0m \u001b[0midx\u001b[0m\u001b[1;33m=\u001b[0m\u001b[0m_w\u001b[0m\u001b[1;33m(\u001b[0m\u001b[0ms\u001b[0m\u001b[1;33m,\u001b[0m \u001b[1;36m0\u001b[0m\u001b[1;33m)\u001b[0m\u001b[1;33m.\u001b[0m\u001b[0mend\u001b[0m\u001b[1;33m(\u001b[0m\u001b[1;33m)\u001b[0m\u001b[1;33m)\u001b[0m\u001b[1;33m\u001b[0m\u001b[1;33m\u001b[0m\u001b[0m\n\u001b[0m\u001b[0;32m    338\u001b[0m         \u001b[0mend\u001b[0m \u001b[1;33m=\u001b[0m \u001b[0m_w\u001b[0m\u001b[1;33m(\u001b[0m\u001b[0ms\u001b[0m\u001b[1;33m,\u001b[0m \u001b[0mend\u001b[0m\u001b[1;33m)\u001b[0m\u001b[1;33m.\u001b[0m\u001b[0mend\u001b[0m\u001b[1;33m(\u001b[0m\u001b[1;33m)\u001b[0m\u001b[1;33m\u001b[0m\u001b[1;33m\u001b[0m\u001b[0m\n\u001b[0;32m    339\u001b[0m         \u001b[1;32mif\u001b[0m \u001b[0mend\u001b[0m \u001b[1;33m!=\u001b[0m \u001b[0mlen\u001b[0m\u001b[1;33m(\u001b[0m\u001b[0ms\u001b[0m\u001b[1;33m)\u001b[0m\u001b[1;33m:\u001b[0m\u001b[1;33m\u001b[0m\u001b[1;33m\u001b[0m\u001b[0m\n",
      "\u001b[1;32m~\\anaconda3\\lib\\json\\decoder.py\u001b[0m in \u001b[0;36mraw_decode\u001b[1;34m(self, s, idx)\u001b[0m\n\u001b[0;32m    353\u001b[0m             \u001b[0mobj\u001b[0m\u001b[1;33m,\u001b[0m \u001b[0mend\u001b[0m \u001b[1;33m=\u001b[0m \u001b[0mself\u001b[0m\u001b[1;33m.\u001b[0m\u001b[0mscan_once\u001b[0m\u001b[1;33m(\u001b[0m\u001b[0ms\u001b[0m\u001b[1;33m,\u001b[0m \u001b[0midx\u001b[0m\u001b[1;33m)\u001b[0m\u001b[1;33m\u001b[0m\u001b[1;33m\u001b[0m\u001b[0m\n\u001b[0;32m    354\u001b[0m         \u001b[1;32mexcept\u001b[0m \u001b[0mStopIteration\u001b[0m \u001b[1;32mas\u001b[0m \u001b[0merr\u001b[0m\u001b[1;33m:\u001b[0m\u001b[1;33m\u001b[0m\u001b[1;33m\u001b[0m\u001b[0m\n\u001b[1;32m--> 355\u001b[1;33m             \u001b[1;32mraise\u001b[0m \u001b[0mJSONDecodeError\u001b[0m\u001b[1;33m(\u001b[0m\u001b[1;34m\"Expecting value\"\u001b[0m\u001b[1;33m,\u001b[0m \u001b[0ms\u001b[0m\u001b[1;33m,\u001b[0m \u001b[0merr\u001b[0m\u001b[1;33m.\u001b[0m\u001b[0mvalue\u001b[0m\u001b[1;33m)\u001b[0m \u001b[1;32mfrom\u001b[0m \u001b[1;32mNone\u001b[0m\u001b[1;33m\u001b[0m\u001b[1;33m\u001b[0m\u001b[0m\n\u001b[0m\u001b[0;32m    356\u001b[0m         \u001b[1;32mreturn\u001b[0m \u001b[0mobj\u001b[0m\u001b[1;33m,\u001b[0m \u001b[0mend\u001b[0m\u001b[1;33m\u001b[0m\u001b[1;33m\u001b[0m\u001b[0m\n",
      "\u001b[1;31mJSONDecodeError\u001b[0m: Expecting value: line 1 column 1 (char 0)"
     ]
    }
   ],
   "source": [
    "\n",
    "# coding: utf-8\n",
    "\n",
    "# In[1]:\n",
    "\n",
    "\n",
    "import requests\n",
    "import time\n",
    "import datetime\n",
    "\n",
    "f_name = input(\"dataset name:\")\n",
    "f = open(f_name,\"a\")\n",
    "# keys = [\"price_usd\",\"24h_volume_usd\",\"market_cap_usd\",\"available_supply\",\"total_supply\",\"percent_change_1h\",\"percent_change_24h\",\"percent_change_7d\"]\n",
    "\n",
    "keys = [\"price\",\"volume_24h\",\"market_cap\",\"available_supply\",\"total_supply\",\"percent_change_1h\",\"percent_change_24h\",\"percent_change_7d\"]\n",
    "vals = [0]*len(keys)\n",
    "\n",
    "while True:\n",
    "    data = requests.get(\"https://api.coinmarketcap.com/v1/ticker/bitcoin/\").json()[0]\n",
    "    #bstamp = requests.get(\"https://www.bitstamp.net/api/v2/ticker/btcusd/\").json() \n",
    "    bkc = requests.get(\"https://blockchain.info/ticker\").json()\n",
    "    for d in data.keys():\n",
    "        if d in keys:\n",
    "            indx = keys.index(d)\n",
    "            vals[indx] = data[d]\n",
    "    for val in vals:\n",
    "        f.write(val+\",\")\n",
    "      \n",
    "    #f.write(\"{},{},\".format(bstamp[\"volume\"],bstamp[\"vwap\"]))\n",
    "    f.write(\"{},{},{}\".format(bkc[\"USD\"][\"sell\"],bkc[\"USD\"][\"buy\"],bkc[\"USD\"][\"15m\"]))\n",
    "    f.write(\",\"+datetime.datetime.now().strftime(\"%y-%m-%d-%H-%M\"))\n",
    "    f.write(\"\\n\")\n",
    "    f.flush()\n",
    "    time.sleep(60)\n"
   ]
  },
  {
   "cell_type": "code",
   "execution_count": 7,
   "id": "laughing-sydney",
   "metadata": {},
   "outputs": [
    {
     "name": "stdout",
     "output_type": "stream",
     "text": [
      "{'fully_diluted_market_cap': 737704702092.13,\n",
      " 'last_updated': '2022-02-24T07:48:00.000Z',\n",
      " 'market_cap': 666286104730.7767,\n",
      " 'market_cap_dominance': 42.4553,\n",
      " 'percent_change_1h': 0.45717502,\n",
      " 'percent_change_24h': -7.94110839,\n",
      " 'percent_change_30d': -2.50396957,\n",
      " 'percent_change_60d': -29.51972114,\n",
      " 'percent_change_7d': -19.91360354,\n",
      " 'percent_change_90d': -38.34803794,\n",
      " 'price': 35128.79533772044,\n",
      " 'volume_24h': 33489483254.369286,\n",
      " 'volume_change_24h': 45.2445}\n"
     ]
    }
   ],
   "source": [
    "from requests import Request,Session\n",
    "import json\n",
    "\n",
    "url = 'https://pro-api.coinmarketcap.com/v2/cryptocurrency/quotes/latest'\n",
    "parameters = {\n",
    "    'slug':'bitcoin',\n",
    "    'convert':'USD'\n",
    "}\n",
    "headers = {\n",
    "    'Accepts':'application/json',\n",
    "    'X-CMC_PRO_API_KEY':'b4dfc95c-51c0-4eeb-a5ee-a847b6c02bf4'\n",
    "}\n",
    "\n",
    "session = Session()\n",
    "session.headers.update(headers)\n",
    "import pprint\n",
    "response = session.get(url,params = parameters)\n",
    "# pprint.pprint(json.loads(response.text))\n",
    "pprint.pprint(json.loads(response.text)['data']['1']['quote']['USD'])\n",
    "data = json.loads(response.text)['data']['1']['quote']['USD']"
   ]
  },
  {
   "cell_type": "code",
   "execution_count": 8,
   "id": "fresh-national",
   "metadata": {},
   "outputs": [
    {
     "name": "stdout",
     "output_type": "stream",
     "text": [
      "{'AUD': {'15m': 49235.33,\n",
      "         'buy': 49235.33,\n",
      "         'last': 49235.33,\n",
      "         'sell': 49235.33,\n",
      "         'symbol': 'AUD'},\n",
      " 'BRL': {'15m': 177924.55,\n",
      "         'buy': 177924.55,\n",
      "         'last': 177924.55,\n",
      "         'sell': 177924.55,\n",
      "         'symbol': 'BRL'},\n",
      " 'CAD': {'15m': 45144.27,\n",
      "         'buy': 45144.27,\n",
      "         'last': 45144.27,\n",
      "         'sell': 45144.27,\n",
      "         'symbol': 'CAD'},\n",
      " 'CHF': {'15m': 32534.28,\n",
      "         'buy': 32534.28,\n",
      "         'last': 32534.28,\n",
      "         'sell': 32534.28,\n",
      "         'symbol': 'CHF'},\n",
      " 'CLP': {'15m': 28432378.06,\n",
      "         'buy': 28432378.06,\n",
      "         'last': 28432378.06,\n",
      "         'sell': 28432378.06,\n",
      "         'symbol': 'CLP'},\n",
      " 'CNY': {'15m': 227043.32,\n",
      "         'buy': 227043.32,\n",
      "         'last': 227043.32,\n",
      "         'sell': 227043.32,\n",
      "         'symbol': 'CNY'},\n",
      " 'CZK': {'15m': 790282.34,\n",
      "         'buy': 790282.34,\n",
      "         'last': 790282.34,\n",
      "         'sell': 790282.34,\n",
      "         'symbol': 'CZK'},\n",
      " 'DKK': {'15m': 232198.53,\n",
      "         'buy': 232198.53,\n",
      "         'last': 232198.53,\n",
      "         'sell': 232198.53,\n",
      "         'symbol': 'DKK'},\n",
      " 'EUR': {'15m': 31447.21,\n",
      "         'buy': 31447.21,\n",
      "         'last': 31447.21,\n",
      "         'sell': 31447.21,\n",
      "         'symbol': 'EUR'},\n",
      " 'GBP': {'15m': 26244.86,\n",
      "         'buy': 26244.86,\n",
      "         'last': 26244.86,\n",
      "         'sell': 26244.86,\n",
      "         'symbol': 'GBP'},\n",
      " 'HKD': {'15m': 277639.41,\n",
      "         'buy': 277639.41,\n",
      "         'last': 277639.41,\n",
      "         'sell': 277639.41,\n",
      "         'symbol': 'HKD'},\n",
      " 'HRK': {'15m': 257850.65,\n",
      "         'buy': 257850.65,\n",
      "         'last': 257850.65,\n",
      "         'sell': 257850.65,\n",
      "         'symbol': 'HRK'},\n",
      " 'HUF': {'15m': 13001691.91,\n",
      "         'buy': 13001691.91,\n",
      "         'last': 13001691.91,\n",
      "         'sell': 13001691.91,\n",
      "         'symbol': 'HUF'},\n",
      " 'INR': {'15m': 2907549.36,\n",
      "         'buy': 2907549.36,\n",
      "         'last': 2907549.36,\n",
      "         'sell': 2907549.36,\n",
      "         'symbol': 'INR'},\n",
      " 'ISK': {'15m': 5808357.27,\n",
      "         'buy': 5808357.27,\n",
      "         'last': 5808357.27,\n",
      "         'sell': 5808357.27,\n",
      "         'symbol': 'ISK'},\n",
      " 'JPY': {'15m': 4061718.5,\n",
      "         'buy': 4061718.5,\n",
      "         'last': 4061718.5,\n",
      "         'sell': 4061718.5,\n",
      "         'symbol': 'JPY'},\n",
      " 'KRW': {'15m': 43639142.88,\n",
      "         'buy': 43639142.88,\n",
      "         'last': 43639142.88,\n",
      "         'sell': 43639142.88,\n",
      "         'symbol': 'KRW'},\n",
      " 'NZD': {'15m': 52606.09,\n",
      "         'buy': 52606.09,\n",
      "         'last': 52606.09,\n",
      "         'sell': 52606.09,\n",
      "         'symbol': 'NZD'},\n",
      " 'PLN': {'15m': 145833.33,\n",
      "         'buy': 145833.33,\n",
      "         'last': 145833.33,\n",
      "         'sell': 145833.33,\n",
      "         'symbol': 'PLN'},\n",
      " 'RON': {'15m': 144643.66,\n",
      "         'buy': 144643.66,\n",
      "         'last': 144643.66,\n",
      "         'sell': 144643.66,\n",
      "         'symbol': 'RON'},\n",
      " 'RUB': {'15m': 3107990.62,\n",
      "         'buy': 3107990.62,\n",
      "         'last': 3107990.62,\n",
      "         'sell': 3107990.62,\n",
      "         'symbol': 'RUB'},\n",
      " 'SEK': {'15m': 335271.36,\n",
      "         'buy': 335271.36,\n",
      "         'last': 335271.36,\n",
      "         'sell': 335271.36,\n",
      "         'symbol': 'SEK'},\n",
      " 'SGD': {'15m': 47366.92,\n",
      "         'buy': 47366.92,\n",
      "         'last': 47366.92,\n",
      "         'sell': 47366.92,\n",
      "         'symbol': 'SGD'},\n",
      " 'THB': {'15m': 1164031.96,\n",
      "         'buy': 1164031.96,\n",
      "         'last': 1164031.96,\n",
      "         'sell': 1164031.96,\n",
      "         'symbol': 'THB'},\n",
      " 'TRY': {'15m': 507144.99,\n",
      "         'buy': 507144.99,\n",
      "         'last': 507144.99,\n",
      "         'sell': 507144.99,\n",
      "         'symbol': 'TRY'},\n",
      " 'TWD': {'15m': 1166681.37,\n",
      "         'buy': 1166681.37,\n",
      "         'last': 1166681.37,\n",
      "         'sell': 1166681.37,\n",
      "         'symbol': 'TWD'},\n",
      " 'USD': {'15m': 35351.82,\n",
      "         'buy': 35351.82,\n",
      "         'last': 35351.82,\n",
      "         'sell': 35351.82,\n",
      "         'symbol': 'USD'}}\n"
     ]
    }
   ],
   "source": [
    "import requests,pprint\n",
    "bkc = requests.get(\"https://blockchain.info/ticker\").json()\n",
    "pprint.pprint(bkc)"
   ]
  },
  {
   "cell_type": "markdown",
   "id": "fresh-andorra",
   "metadata": {},
   "source": [
    "## Getting BITCOIN data form CoinBase Pro API"
   ]
  },
  {
   "cell_type": "code",
   "execution_count": 1,
   "id": "adjusted-hacker",
   "metadata": {},
   "outputs": [],
   "source": [
    "from Historic_Crypto import HistoricalData"
   ]
  },
  {
   "cell_type": "code",
   "execution_count": 13,
   "id": "digital-column",
   "metadata": {
    "collapsed": true
   },
   "outputs": [
    {
     "name": "stdout",
     "output_type": "stream",
     "text": [
      "Checking input parameters are in the correct format.\n",
      "Formatting Dates.\n",
      "Checking if user supplied is available on the CoinBase Pro API.\n",
      "Connected to the CoinBase Pro API.\n",
      "Ticker 'BTC-USD' found at the CoinBase Pro API, continuing to extraction.\n",
      "Provisional Start: 2020-12-31T00:00:00\n",
      "Provisional End: 2021-10-27T00:00:00\n",
      "Data for chunk 1 of 2 extracted\n",
      "Provisional Start: 2021-10-27T00:00:00\n",
      "Provisional End: 2022-08-23T00:00:00\n",
      "Data for chunk 2 of 2 extracted\n"
     ]
    }
   ],
   "source": [
    "data = HistoricalData('BTC-USD',86400,'2020-12-31-00-00','2021-12-31-00-00').retrieve_data()"
   ]
  },
  {
   "cell_type": "code",
   "execution_count": 14,
   "id": "higher-apache",
   "metadata": {},
   "outputs": [
    {
     "data": {
      "text/html": [
       "<div>\n",
       "<style scoped>\n",
       "    .dataframe tbody tr th:only-of-type {\n",
       "        vertical-align: middle;\n",
       "    }\n",
       "\n",
       "    .dataframe tbody tr th {\n",
       "        vertical-align: top;\n",
       "    }\n",
       "\n",
       "    .dataframe thead th {\n",
       "        text-align: right;\n",
       "    }\n",
       "</style>\n",
       "<table border=\"1\" class=\"dataframe\">\n",
       "  <thead>\n",
       "    <tr style=\"text-align: right;\">\n",
       "      <th></th>\n",
       "      <th>low</th>\n",
       "      <th>high</th>\n",
       "      <th>open</th>\n",
       "      <th>close</th>\n",
       "      <th>volume</th>\n",
       "    </tr>\n",
       "    <tr>\n",
       "      <th>time</th>\n",
       "      <th></th>\n",
       "      <th></th>\n",
       "      <th></th>\n",
       "      <th></th>\n",
       "      <th></th>\n",
       "    </tr>\n",
       "  </thead>\n",
       "  <tbody>\n",
       "    <tr>\n",
       "      <th>2021-01-01</th>\n",
       "      <td>28700.00</td>\n",
       "      <td>29688.88</td>\n",
       "      <td>28990.08</td>\n",
       "      <td>29412.84</td>\n",
       "      <td>22211.252518</td>\n",
       "    </tr>\n",
       "    <tr>\n",
       "      <th>2021-01-02</th>\n",
       "      <td>29039.00</td>\n",
       "      <td>33300.00</td>\n",
       "      <td>29413.29</td>\n",
       "      <td>32225.91</td>\n",
       "      <td>46675.246521</td>\n",
       "    </tr>\n",
       "    <tr>\n",
       "      <th>2021-01-03</th>\n",
       "      <td>32008.62</td>\n",
       "      <td>34810.00</td>\n",
       "      <td>32222.88</td>\n",
       "      <td>33080.66</td>\n",
       "      <td>36951.716506</td>\n",
       "    </tr>\n",
       "    <tr>\n",
       "      <th>2021-01-04</th>\n",
       "      <td>27678.00</td>\n",
       "      <td>33666.99</td>\n",
       "      <td>33082.84</td>\n",
       "      <td>32019.99</td>\n",
       "      <td>46045.389685</td>\n",
       "    </tr>\n",
       "    <tr>\n",
       "      <th>2021-01-05</th>\n",
       "      <td>29891.13</td>\n",
       "      <td>34499.67</td>\n",
       "      <td>32020.22</td>\n",
       "      <td>34030.64</td>\n",
       "      <td>42282.569200</td>\n",
       "    </tr>\n",
       "  </tbody>\n",
       "</table>\n",
       "</div>"
      ],
      "text/plain": [
       "                 low      high      open     close        volume\n",
       "time                                                            \n",
       "2021-01-01  28700.00  29688.88  28990.08  29412.84  22211.252518\n",
       "2021-01-02  29039.00  33300.00  29413.29  32225.91  46675.246521\n",
       "2021-01-03  32008.62  34810.00  32222.88  33080.66  36951.716506\n",
       "2021-01-04  27678.00  33666.99  33082.84  32019.99  46045.389685\n",
       "2021-01-05  29891.13  34499.67  32020.22  34030.64  42282.569200"
      ]
     },
     "execution_count": 14,
     "metadata": {},
     "output_type": "execute_result"
    }
   ],
   "source": [
    "data.head()"
   ]
  },
  {
   "cell_type": "code",
   "execution_count": 15,
   "id": "instant-conservative",
   "metadata": {},
   "outputs": [
    {
     "name": "stdout",
     "output_type": "stream",
     "text": [
      "<class 'pandas.core.frame.DataFrame'>\n",
      "DatetimeIndex: 365 entries, 2021-01-01 to 2021-12-31\n",
      "Data columns (total 5 columns):\n",
      " #   Column  Non-Null Count  Dtype  \n",
      "---  ------  --------------  -----  \n",
      " 0   low     365 non-null    float64\n",
      " 1   high    365 non-null    float64\n",
      " 2   open    365 non-null    float64\n",
      " 3   close   365 non-null    float64\n",
      " 4   volume  365 non-null    float64\n",
      "dtypes: float64(5)\n",
      "memory usage: 17.1 KB\n"
     ]
    }
   ],
   "source": [
    "data.info()"
   ]
  },
  {
   "cell_type": "code",
   "execution_count": 16,
   "id": "japanese-salem",
   "metadata": {},
   "outputs": [],
   "source": [
    "data.to_csv(r'.\\bitcoindata3.csv')"
   ]
  },
  {
   "cell_type": "code",
   "execution_count": 10,
   "id": "vocational-bosnia",
   "metadata": {},
   "outputs": [],
   "source": [
    "import pandas as pd\n",
    "bitcoin_df2 = pd.read_csv(\"bitcoindata2.csv\")"
   ]
  },
  {
   "cell_type": "code",
   "execution_count": 12,
   "id": "direct-soccer",
   "metadata": {},
   "outputs": [
    {
     "name": "stdout",
     "output_type": "stream",
     "text": [
      "<class 'pandas.core.frame.DataFrame'>\n",
      "RangeIndex: 364 entries, 0 to 363\n",
      "Data columns (total 6 columns):\n",
      " #   Column  Non-Null Count  Dtype  \n",
      "---  ------  --------------  -----  \n",
      " 0   time    364 non-null    object \n",
      " 1   low     364 non-null    float64\n",
      " 2   high    364 non-null    float64\n",
      " 3   open    364 non-null    float64\n",
      " 4   close   364 non-null    float64\n",
      " 5   volume  364 non-null    float64\n",
      "dtypes: float64(5), object(1)\n",
      "memory usage: 17.2+ KB\n"
     ]
    }
   ],
   "source": [
    "bitcoin_df2.info()"
   ]
  },
  {
   "cell_type": "code",
   "execution_count": null,
   "id": "hairy-ballet",
   "metadata": {},
   "outputs": [],
   "source": []
  }
 ],
 "metadata": {
  "kernelspec": {
   "display_name": "Python 3",
   "language": "python",
   "name": "python3"
  },
  "language_info": {
   "codemirror_mode": {
    "name": "ipython",
    "version": 3
   },
   "file_extension": ".py",
   "mimetype": "text/x-python",
   "name": "python",
   "nbconvert_exporter": "python",
   "pygments_lexer": "ipython3",
   "version": "3.7.9"
  }
 },
 "nbformat": 4,
 "nbformat_minor": 5
}
