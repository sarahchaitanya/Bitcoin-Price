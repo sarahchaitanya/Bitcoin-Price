{
 "cells": [
  {
   "cell_type": "code",
   "execution_count": 11,
   "metadata": {},
   "outputs": [],
   "source": [
    "from math import sqrt\n",
    "from numpy import concatenate\n",
    "from matplotlib import pyplot\n",
    "import pandas as pd\n",
    "from datetime import datetime\n",
    "from sklearn.preprocessing import MinMaxScaler\n",
    "from sklearn.preprocessing import LabelEncoder\n",
    "from sklearn.metrics import mean_squared_error\n",
    "from keras.models import Sequential\n",
    "from keras.layers import Dense\n",
    "from keras.layers import LSTM\n",
    "import numpy as np\n",
    "import datetime\n",
    "from pytz import timezone\n",
    "est = timezone('US/Eastern')\n"
   ]
  },
  {
   "cell_type": "code",
   "execution_count": null,
   "metadata": {},
   "outputs": [],
   "source": [
    "from twilio.rest import Client\n",
    "\n",
    "# Your Account SID from twilio.com/console\n",
    "account_sid = \"*******\"\n",
    "# Your Auth Token from twilio.com/console\n",
    "auth_token  = \"*******\"\n",
    "\n",
    "client = Client(account_sid, auth_token)\n",
    "\n",
    "\n",
    "\n",
    "# data = pd.read_csv(\"merged_data.csv\")\n",
    "\n",
    "# datag = data[['Price','Sentiment']].groupby(data['Time']).mean()"
   ]
  },
  {
   "cell_type": "code",
   "execution_count": 3,
   "metadata": {},
   "outputs": [],
   "source": [
    "data = pd.read_csv(\"merged2.csv\")\n",
    "\n",
    "# datag = data[['Price','Sentiment']].groupby(data['Time']).mean()"
   ]
  },
  {
   "cell_type": "code",
   "execution_count": 4,
   "metadata": {},
   "outputs": [
    {
     "data": {
      "text/html": [
       "<div>\n",
       "<style scoped>\n",
       "    .dataframe tbody tr th:only-of-type {\n",
       "        vertical-align: middle;\n",
       "    }\n",
       "\n",
       "    .dataframe tbody tr th {\n",
       "        vertical-align: top;\n",
       "    }\n",
       "\n",
       "    .dataframe thead th {\n",
       "        text-align: right;\n",
       "    }\n",
       "</style>\n",
       "<table border=\"1\" class=\"dataframe\">\n",
       "  <thead>\n",
       "    <tr style=\"text-align: right;\">\n",
       "      <th></th>\n",
       "      <th>Time</th>\n",
       "      <th>polarity</th>\n",
       "      <th>sensitivity</th>\n",
       "      <th>Tweet_vol</th>\n",
       "      <th>Open</th>\n",
       "      <th>High</th>\n",
       "      <th>Low</th>\n",
       "      <th>Price</th>\n",
       "      <th>Volume (BTC)</th>\n",
       "      <th>Volume (Currency)</th>\n",
       "      <th>Weighted Price</th>\n",
       "    </tr>\n",
       "  </thead>\n",
       "  <tbody>\n",
       "    <tr>\n",
       "      <th>0</th>\n",
       "      <td>11-07-2018 20:00</td>\n",
       "      <td>0.102657</td>\n",
       "      <td>0.216148</td>\n",
       "      <td>4354</td>\n",
       "      <td>6342.97</td>\n",
       "      <td>6354.19</td>\n",
       "      <td>6291.00</td>\n",
       "      <td>6350.00</td>\n",
       "      <td>986.73</td>\n",
       "      <td>6231532.37</td>\n",
       "      <td>6315.33</td>\n",
       "    </tr>\n",
       "    <tr>\n",
       "      <th>1</th>\n",
       "      <td>11-07-2018 21:00</td>\n",
       "      <td>0.098004</td>\n",
       "      <td>0.218612</td>\n",
       "      <td>4432</td>\n",
       "      <td>6352.99</td>\n",
       "      <td>6370.00</td>\n",
       "      <td>6345.76</td>\n",
       "      <td>6356.48</td>\n",
       "      <td>126.46</td>\n",
       "      <td>804221.55</td>\n",
       "      <td>6359.53</td>\n",
       "    </tr>\n",
       "    <tr>\n",
       "      <th>2</th>\n",
       "      <td>11-07-2018 22:00</td>\n",
       "      <td>0.096688</td>\n",
       "      <td>0.231342</td>\n",
       "      <td>3980</td>\n",
       "      <td>6350.85</td>\n",
       "      <td>6378.47</td>\n",
       "      <td>6345.00</td>\n",
       "      <td>6361.93</td>\n",
       "      <td>259.10</td>\n",
       "      <td>1646353.87</td>\n",
       "      <td>6354.12</td>\n",
       "    </tr>\n",
       "    <tr>\n",
       "      <th>3</th>\n",
       "      <td>11-07-2018 23:00</td>\n",
       "      <td>0.103997</td>\n",
       "      <td>0.217739</td>\n",
       "      <td>3830</td>\n",
       "      <td>6362.36</td>\n",
       "      <td>6381.25</td>\n",
       "      <td>6356.74</td>\n",
       "      <td>6368.78</td>\n",
       "      <td>81.54</td>\n",
       "      <td>519278.69</td>\n",
       "      <td>6368.23</td>\n",
       "    </tr>\n",
       "    <tr>\n",
       "      <th>4</th>\n",
       "      <td>12-07-2018 00:00</td>\n",
       "      <td>0.094383</td>\n",
       "      <td>0.195256</td>\n",
       "      <td>3998</td>\n",
       "      <td>6369.49</td>\n",
       "      <td>6381.25</td>\n",
       "      <td>6361.83</td>\n",
       "      <td>6380.00</td>\n",
       "      <td>124.55</td>\n",
       "      <td>793560.22</td>\n",
       "      <td>6371.51</td>\n",
       "    </tr>\n",
       "  </tbody>\n",
       "</table>\n",
       "</div>"
      ],
      "text/plain": [
       "               Time  polarity  sensitivity  Tweet_vol     Open     High  \\\n",
       "0  11-07-2018 20:00  0.102657     0.216148       4354  6342.97  6354.19   \n",
       "1  11-07-2018 21:00  0.098004     0.218612       4432  6352.99  6370.00   \n",
       "2  11-07-2018 22:00  0.096688     0.231342       3980  6350.85  6378.47   \n",
       "3  11-07-2018 23:00  0.103997     0.217739       3830  6362.36  6381.25   \n",
       "4  12-07-2018 00:00  0.094383     0.195256       3998  6369.49  6381.25   \n",
       "\n",
       "       Low    Price  Volume (BTC)  Volume (Currency)  Weighted Price  \n",
       "0  6291.00  6350.00        986.73         6231532.37         6315.33  \n",
       "1  6345.76  6356.48        126.46          804221.55         6359.53  \n",
       "2  6345.00  6361.93        259.10         1646353.87         6354.12  \n",
       "3  6356.74  6368.78         81.54          519278.69         6368.23  \n",
       "4  6361.83  6380.00        124.55          793560.22         6371.51  "
      ]
     },
     "execution_count": 4,
     "metadata": {},
     "output_type": "execute_result"
    }
   ],
   "source": [
    "data.head()"
   ]
  },
  {
   "cell_type": "code",
   "execution_count": 6,
   "metadata": {},
   "outputs": [],
   "source": [
    "datag = data[['Price','polarity']].groupby(data['Time']).mean()"
   ]
  },
  {
   "cell_type": "code",
   "execution_count": 7,
   "metadata": {},
   "outputs": [
    {
     "data": {
      "text/html": [
       "<div>\n",
       "<style scoped>\n",
       "    .dataframe tbody tr th:only-of-type {\n",
       "        vertical-align: middle;\n",
       "    }\n",
       "\n",
       "    .dataframe tbody tr th {\n",
       "        vertical-align: top;\n",
       "    }\n",
       "\n",
       "    .dataframe thead th {\n",
       "        text-align: right;\n",
       "    }\n",
       "</style>\n",
       "<table border=\"1\" class=\"dataframe\">\n",
       "  <thead>\n",
       "    <tr style=\"text-align: right;\">\n",
       "      <th></th>\n",
       "      <th>Price</th>\n",
       "      <th>polarity</th>\n",
       "    </tr>\n",
       "    <tr>\n",
       "      <th>Time</th>\n",
       "      <th></th>\n",
       "      <th></th>\n",
       "    </tr>\n",
       "  </thead>\n",
       "  <tbody>\n",
       "    <tr>\n",
       "      <th>11-07-2018 20:00</th>\n",
       "      <td>6350.00</td>\n",
       "      <td>0.102657</td>\n",
       "    </tr>\n",
       "    <tr>\n",
       "      <th>11-07-2018 21:00</th>\n",
       "      <td>6356.48</td>\n",
       "      <td>0.098004</td>\n",
       "    </tr>\n",
       "    <tr>\n",
       "      <th>11-07-2018 22:00</th>\n",
       "      <td>6361.93</td>\n",
       "      <td>0.096688</td>\n",
       "    </tr>\n",
       "    <tr>\n",
       "      <th>11-07-2018 23:00</th>\n",
       "      <td>6368.78</td>\n",
       "      <td>0.103997</td>\n",
       "    </tr>\n",
       "    <tr>\n",
       "      <th>12-07-2018 00:00</th>\n",
       "      <td>6380.00</td>\n",
       "      <td>0.094383</td>\n",
       "    </tr>\n",
       "  </tbody>\n",
       "</table>\n",
       "</div>"
      ],
      "text/plain": [
       "                    Price  polarity\n",
       "Time                               \n",
       "11-07-2018 20:00  6350.00  0.102657\n",
       "11-07-2018 21:00  6356.48  0.098004\n",
       "11-07-2018 22:00  6361.93  0.096688\n",
       "11-07-2018 23:00  6368.78  0.103997\n",
       "12-07-2018 00:00  6380.00  0.094383"
      ]
     },
     "execution_count": 7,
     "metadata": {},
     "output_type": "execute_result"
    }
   ],
   "source": [
    "datag.head()"
   ]
  },
  {
   "cell_type": "code",
   "execution_count": 1,
   "metadata": {},
   "outputs": [],
   "source": [
    "import pandas as pd\n",
    "datag = pd.read_csv('final_dataset.csv')"
   ]
  },
  {
   "cell_type": "code",
   "execution_count": 2,
   "metadata": {},
   "outputs": [
    {
     "data": {
      "text/html": [
       "<div>\n",
       "<style scoped>\n",
       "    .dataframe tbody tr th:only-of-type {\n",
       "        vertical-align: middle;\n",
       "    }\n",
       "\n",
       "    .dataframe tbody tr th {\n",
       "        vertical-align: top;\n",
       "    }\n",
       "\n",
       "    .dataframe thead th {\n",
       "        text-align: right;\n",
       "    }\n",
       "</style>\n",
       "<table border=\"1\" class=\"dataframe\">\n",
       "  <thead>\n",
       "    <tr style=\"text-align: right;\">\n",
       "      <th></th>\n",
       "      <th>Unnamed: 0</th>\n",
       "      <th>time_x</th>\n",
       "      <th>low</th>\n",
       "      <th>high</th>\n",
       "      <th>open</th>\n",
       "      <th>close</th>\n",
       "      <th>volume</th>\n",
       "      <th>pol</th>\n",
       "      <th>RSI</th>\n",
       "      <th>SMA</th>\n",
       "    </tr>\n",
       "  </thead>\n",
       "  <tbody>\n",
       "    <tr>\n",
       "      <th>0</th>\n",
       "      <td>5</td>\n",
       "      <td>2021-01-06</td>\n",
       "      <td>33352.54</td>\n",
       "      <td>37000.00</td>\n",
       "      <td>34043.91</td>\n",
       "      <td>36859.26</td>\n",
       "      <td>45744.103200</td>\n",
       "      <td>39.697416</td>\n",
       "      <td>72.68</td>\n",
       "      <td>39091.79</td>\n",
       "    </tr>\n",
       "    <tr>\n",
       "      <th>1</th>\n",
       "      <td>6</td>\n",
       "      <td>2021-01-07</td>\n",
       "      <td>36200.00</td>\n",
       "      <td>40425.00</td>\n",
       "      <td>36859.26</td>\n",
       "      <td>39505.56</td>\n",
       "      <td>50346.305691</td>\n",
       "      <td>42.358659</td>\n",
       "      <td>42.20</td>\n",
       "      <td>38810.46</td>\n",
       "    </tr>\n",
       "    <tr>\n",
       "      <th>2</th>\n",
       "      <td>7</td>\n",
       "      <td>2021-01-08</td>\n",
       "      <td>36565.08</td>\n",
       "      <td>41986.37</td>\n",
       "      <td>39510.55</td>\n",
       "      <td>40665.15</td>\n",
       "      <td>48522.484903</td>\n",
       "      <td>16.940548</td>\n",
       "      <td>14.89</td>\n",
       "      <td>37717.14</td>\n",
       "    </tr>\n",
       "    <tr>\n",
       "      <th>3</th>\n",
       "      <td>8</td>\n",
       "      <td>2021-01-09</td>\n",
       "      <td>38800.00</td>\n",
       "      <td>41406.94</td>\n",
       "      <td>40642.15</td>\n",
       "      <td>40257.43</td>\n",
       "      <td>27152.971029</td>\n",
       "      <td>12.754143</td>\n",
       "      <td>33.61</td>\n",
       "      <td>37062.85</td>\n",
       "    </tr>\n",
       "    <tr>\n",
       "      <th>4</th>\n",
       "      <td>9</td>\n",
       "      <td>2021-01-10</td>\n",
       "      <td>34444.00</td>\n",
       "      <td>41452.12</td>\n",
       "      <td>40257.43</td>\n",
       "      <td>38171.57</td>\n",
       "      <td>43736.570316</td>\n",
       "      <td>8.077794</td>\n",
       "      <td>44.99</td>\n",
       "      <td>36836.39</td>\n",
       "    </tr>\n",
       "  </tbody>\n",
       "</table>\n",
       "</div>"
      ],
      "text/plain": [
       "   Unnamed: 0      time_x       low      high      open     close  \\\n",
       "0           5  2021-01-06  33352.54  37000.00  34043.91  36859.26   \n",
       "1           6  2021-01-07  36200.00  40425.00  36859.26  39505.56   \n",
       "2           7  2021-01-08  36565.08  41986.37  39510.55  40665.15   \n",
       "3           8  2021-01-09  38800.00  41406.94  40642.15  40257.43   \n",
       "4           9  2021-01-10  34444.00  41452.12  40257.43  38171.57   \n",
       "\n",
       "         volume        pol    RSI       SMA  \n",
       "0  45744.103200  39.697416  72.68  39091.79  \n",
       "1  50346.305691  42.358659  42.20  38810.46  \n",
       "2  48522.484903  16.940548  14.89  37717.14  \n",
       "3  27152.971029  12.754143  33.61  37062.85  \n",
       "4  43736.570316   8.077794  44.99  36836.39  "
      ]
     },
     "execution_count": 2,
     "metadata": {},
     "output_type": "execute_result"
    }
   ],
   "source": [
    "datag.head()"
   ]
  },
  {
   "cell_type": "code",
   "execution_count": 5,
   "metadata": {},
   "outputs": [
    {
     "data": {
      "text/html": [
       "<div>\n",
       "<style scoped>\n",
       "    .dataframe tbody tr th:only-of-type {\n",
       "        vertical-align: middle;\n",
       "    }\n",
       "\n",
       "    .dataframe tbody tr th {\n",
       "        vertical-align: top;\n",
       "    }\n",
       "\n",
       "    .dataframe thead th {\n",
       "        text-align: right;\n",
       "    }\n",
       "</style>\n",
       "<table border=\"1\" class=\"dataframe\">\n",
       "  <thead>\n",
       "    <tr style=\"text-align: right;\">\n",
       "      <th></th>\n",
       "      <th>Unnamed: 0</th>\n",
       "      <th>time_x</th>\n",
       "      <th>low</th>\n",
       "      <th>high</th>\n",
       "      <th>open</th>\n",
       "      <th>close</th>\n",
       "      <th>volume</th>\n",
       "      <th>pol</th>\n",
       "    </tr>\n",
       "  </thead>\n",
       "  <tbody>\n",
       "    <tr>\n",
       "      <th>0</th>\n",
       "      <td>5</td>\n",
       "      <td>2021-01-06</td>\n",
       "      <td>33352.54</td>\n",
       "      <td>37000.00</td>\n",
       "      <td>34043.91</td>\n",
       "      <td>36859.26</td>\n",
       "      <td>45744.103200</td>\n",
       "      <td>39.697416</td>\n",
       "    </tr>\n",
       "    <tr>\n",
       "      <th>1</th>\n",
       "      <td>6</td>\n",
       "      <td>2021-01-07</td>\n",
       "      <td>36200.00</td>\n",
       "      <td>40425.00</td>\n",
       "      <td>36859.26</td>\n",
       "      <td>39505.56</td>\n",
       "      <td>50346.305691</td>\n",
       "      <td>42.358659</td>\n",
       "    </tr>\n",
       "    <tr>\n",
       "      <th>2</th>\n",
       "      <td>7</td>\n",
       "      <td>2021-01-08</td>\n",
       "      <td>36565.08</td>\n",
       "      <td>41986.37</td>\n",
       "      <td>39510.55</td>\n",
       "      <td>40665.15</td>\n",
       "      <td>48522.484903</td>\n",
       "      <td>16.940548</td>\n",
       "    </tr>\n",
       "    <tr>\n",
       "      <th>3</th>\n",
       "      <td>8</td>\n",
       "      <td>2021-01-09</td>\n",
       "      <td>38800.00</td>\n",
       "      <td>41406.94</td>\n",
       "      <td>40642.15</td>\n",
       "      <td>40257.43</td>\n",
       "      <td>27152.971029</td>\n",
       "      <td>12.754143</td>\n",
       "    </tr>\n",
       "    <tr>\n",
       "      <th>4</th>\n",
       "      <td>9</td>\n",
       "      <td>2021-01-10</td>\n",
       "      <td>34444.00</td>\n",
       "      <td>41452.12</td>\n",
       "      <td>40257.43</td>\n",
       "      <td>38171.57</td>\n",
       "      <td>43736.570316</td>\n",
       "      <td>8.077794</td>\n",
       "    </tr>\n",
       "  </tbody>\n",
       "</table>\n",
       "</div>"
      ],
      "text/plain": [
       "   Unnamed: 0      time_x       low      high      open     close  \\\n",
       "0           5  2021-01-06  33352.54  37000.00  34043.91  36859.26   \n",
       "1           6  2021-01-07  36200.00  40425.00  36859.26  39505.56   \n",
       "2           7  2021-01-08  36565.08  41986.37  39510.55  40665.15   \n",
       "3           8  2021-01-09  38800.00  41406.94  40642.15  40257.43   \n",
       "4           9  2021-01-10  34444.00  41452.12  40257.43  38171.57   \n",
       "\n",
       "         volume        pol  \n",
       "0  45744.103200  39.697416  \n",
       "1  50346.305691  42.358659  \n",
       "2  48522.484903  16.940548  \n",
       "3  27152.971029  12.754143  \n",
       "4  43736.570316   8.077794  "
      ]
     },
     "execution_count": 5,
     "metadata": {},
     "output_type": "execute_result"
    }
   ],
   "source": [
    "datagg = datag.drop(['RSI','SMA'],axis=1)\n",
    "datagg.head()"
   ]
  },
  {
   "cell_type": "code",
   "execution_count": 6,
   "metadata": {},
   "outputs": [
    {
     "name": "stdout",
     "output_type": "stream",
     "text": [
      "251 109\n"
     ]
    }
   ],
   "source": [
    "from sklearn.preprocessing import MinMaxScaler\n",
    "values = datag['close'].values.reshape(-1,1)\n",
    "sentiment = datag['pol'].values.reshape(-1,1)\n",
    "values = values.astype('float32')\n",
    "sentiment = sentiment.astype('float32')\n",
    "scaler = MinMaxScaler(feature_range=(0, 1))\n",
    "scaled = scaler.fit_transform(values)\n",
    "\n",
    "train_size = int(len(scaled) * 0.7)\n",
    "test_size = len(scaled) - train_size\n",
    "train, test = scaled[0:train_size,:], scaled[train_size:len(scaled),:]\n",
    "print(len(train), len(test))\n",
    "split = train_size"
   ]
  },
  {
   "cell_type": "code",
   "execution_count": 7,
   "metadata": {},
   "outputs": [],
   "source": [
    "def create_dataset(dataset, look_back, sentiment, sent=False):\n",
    "    dataX, dataY = [], []\n",
    "    for i in range(len(dataset) - look_back):\n",
    "        if i >= look_back:\n",
    "            a = dataset[i-look_back:i+1, 0]\n",
    "            a = a.tolist()\n",
    "            if(sent==True):\n",
    "                a.append(sentiment[i].tolist()[0])\n",
    "            dataX.append(a)\n",
    "            dataY.append(dataset[i + look_back, 0])\n",
    "    #print(len(dataY))\n",
    "    return np.array(dataX), np.array(dataY)\n"
   ]
  },
  {
   "cell_type": "code",
   "execution_count": 12,
   "metadata": {},
   "outputs": [
    {
     "name": "stdout",
     "output_type": "stream",
     "text": [
      "Test RMSE: 3095.100\n"
     ]
    }
   ],
   "source": [
    "# import numpy as np\n",
    "look_back = 2\n",
    "trainX, trainY = create_dataset(train, look_back, sentiment[0:train_size],sent=True)\n",
    "testX, testY = create_dataset(test, look_back, sentiment[train_size:len(scaled)], sent=True)\n",
    "\n",
    "trainX = np.reshape(trainX, (trainX.shape[0], 1, trainX.shape[1]))\n",
    "testX = np.reshape(testX, (testX.shape[0], 1, testX.shape[1]))\n",
    "\n",
    "model = Sequential()\n",
    "model.add(LSTM(100, input_shape=(trainX.shape[1], trainX.shape[2]), return_sequences=True))\n",
    "model.add(LSTM(100))\n",
    "model.add(Dense(1))\n",
    "model.compile(loss='mae', optimizer='adam')\n",
    "history = model.fit(trainX, trainY, epochs=300, batch_size=100, validation_data=(testX, testY), verbose=0, shuffle=False)\n",
    "\n",
    "yhat = model.predict(testX)\n",
    "\n",
    "yhat_inverse_sent = scaler.inverse_transform(yhat.reshape(-1, 1))\n",
    "testY_inverse_sent = scaler.inverse_transform(testY.reshape(-1, 1))\n",
    "\n",
    "rmse_sent = sqrt(mean_squared_error(testY_inverse_sent, yhat_inverse_sent))\n",
    "print('Test RMSE: %.3f' % rmse_sent)\n"
   ]
  },
  {
   "cell_type": "code",
   "execution_count": 13,
   "metadata": {
    "collapsed": true
   },
   "outputs": [
    {
     "data": {
      "text/plain": [
       "array([[0.46216998],\n",
       "       [0.4388533 ],\n",
       "       [0.45039716],\n",
       "       [0.4737936 ],\n",
       "       [0.39507848],\n",
       "       [0.30273417],\n",
       "       [0.35045153],\n",
       "       [0.37422416],\n",
       "       [0.39330223],\n",
       "       [0.3565111 ],\n",
       "       [0.32497862],\n",
       "       [0.3182111 ],\n",
       "       [0.2907535 ],\n",
       "       [0.28031906],\n",
       "       [0.3324679 ],\n",
       "       [0.43591216],\n",
       "       [0.49398872],\n",
       "       [0.46080616],\n",
       "       [0.5205277 ],\n",
       "       [0.5270384 ],\n",
       "       [0.652498  ],\n",
       "       [0.6677535 ],\n",
       "       [0.63014394],\n",
       "       [0.62303114],\n",
       "       [0.6643782 ],\n",
       "       [0.69041264],\n",
       "       [0.6953971 ],\n",
       "       [0.66829246],\n",
       "       [0.6922715 ],\n",
       "       [0.7698257 ],\n",
       "       [0.82894903],\n",
       "       [0.8231835 ],\n",
       "       [0.78089094],\n",
       "       [0.85064   ],\n",
       "       [0.9112362 ],\n",
       "       [0.8915854 ],\n",
       "       [0.83223337],\n",
       "       [0.76866823],\n",
       "       [0.78228724],\n",
       "       [0.8565093 ],\n",
       "       [0.8398712 ],\n",
       "       [0.758008  ],\n",
       "       [0.7669882 ],\n",
       "       [0.84155184],\n",
       "       [0.8275407 ],\n",
       "       [0.7787026 ],\n",
       "       [0.7685047 ],\n",
       "       [0.8263898 ],\n",
       "       [0.87659097],\n",
       "       [0.8343448 ],\n",
       "       [0.82217795],\n",
       "       [0.7836936 ],\n",
       "       [0.8472722 ],\n",
       "       [0.906309  ],\n",
       "       [0.93409413],\n",
       "       [0.9388781 ],\n",
       "       [0.8785271 ],\n",
       "       [0.8441641 ],\n",
       "       [0.8385866 ],\n",
       "       [0.89561015],\n",
       "       [0.89951557],\n",
       "       [0.81601554],\n",
       "       [0.7571972 ],\n",
       "       [0.7145012 ],\n",
       "       [0.75730807],\n",
       "       [0.7727414 ],\n",
       "       [0.77744186],\n",
       "       [0.7545024 ],\n",
       "       [0.68397754],\n",
       "       [0.74059236],\n",
       "       [0.76716834],\n",
       "       [0.65799606],\n",
       "       [0.6327678 ],\n",
       "       [0.6896332 ],\n",
       "       [0.7073318 ],\n",
       "       [0.74558145],\n",
       "       [0.73178905],\n",
       "       [0.61961967],\n",
       "       [0.6762789 ],\n",
       "       [0.60485023],\n",
       "       [0.4983612 ],\n",
       "       [0.5664535 ],\n",
       "       [0.57838887],\n",
       "       [0.5396739 ],\n",
       "       [0.5380778 ],\n",
       "       [0.50709236],\n",
       "       [0.5267299 ],\n",
       "       [0.5461323 ],\n",
       "       [0.48825505],\n",
       "       [0.48198253],\n",
       "       [0.4688371 ],\n",
       "       [0.4523648 ],\n",
       "       [0.4831578 ],\n",
       "       [0.41910806],\n",
       "       [0.4164979 ],\n",
       "       [0.4202226 ],\n",
       "       [0.4479405 ],\n",
       "       [0.51976186],\n",
       "       [0.5359905 ],\n",
       "       [0.56950647],\n",
       "       [0.4737225 ],\n",
       "       [0.5850443 ],\n",
       "       [0.5775296 ],\n",
       "       [0.5348242 ],\n",
       "       [0.47809798]], dtype=float32)"
      ]
     },
     "execution_count": 13,
     "metadata": {},
     "output_type": "execute_result"
    }
   ],
   "source": [
    "yhat"
   ]
  },
  {
   "cell_type": "code",
   "execution_count": null,
   "metadata": {},
   "outputs": [],
   "source": [
    "import MySQLdb\n",
    "#Enter the values for you database connection\n",
    "dsn_database = \"bitcoin\"         # e.g. \"MySQLdbtest\"\n",
    "dsn_hostname = \"173.194.231.244\"      # e.g.: \"mydbinstance.xyz.us-east-1.rds.amazonaws.com\"\n",
    "dsn_port = 3306                  # e.g. 3306 \n",
    "dsn_uid = \"demo\"             # e.g. \"user1\"\n",
    "dsn_pwd = \"qwerty@123\"              # e.g. \"Password123\"\n",
    "\n",
    "conn = MySQLdb.connect(host=dsn_hostname, port=dsn_port, user=dsn_uid, passwd=dsn_pwd, db=dsn_database)\n",
    "\n",
    "cursor=conn.cursor()\n",
    "\n",
    "\n",
    "import queue \n",
    "import time\n",
    "\n",
    "import queue\n",
    "import matplotlib.pyplot as plt\n",
    "true_q = queue.Queue()\n",
    "pred_q = queue.Queue()\n",
    "'''\n",
    "fig = plt.figure()\n",
    "ax = fig.add_subplot(111)\n",
    "fig.show()\n",
    "fig.canvas.draw()\n",
    "plt.ion()\n",
    "'''\n",
    "\n",
    "def process_data(in_data):\n",
    "    out_data = []\n",
    "    for line in in_data:\n",
    "        out_data.append(float(line.split(',')[0]))\n",
    "    return np.array(out_data).reshape(-1,1)\n",
    "prev = 15000\n",
    "threshold = 0.05\n",
    "while True:\n",
    "    btc = open('live_bitcoin.csv','r')\n",
    "    sent = open('live_tweet.csv','r')\n",
    "    bit_data = btc.readlines()\n",
    "    sent_data = sent.readlines()\n",
    "    bit_data = process_data(bit_data[len(bit_data)-5:])\n",
    "    sent_data = process_data(sent_data[len(sent_data)-5:])\n",
    "    live = scaler.transform(bit_data)\n",
    "    testX, testY = create_dataset(live, 2, sent_data, sent=True)\n",
    "    testX = np.reshape(testX, (testX.shape[0], 1, testX.shape[1]))\n",
    "    yhat = model.predict(testX)\n",
    "    yhat_inverse = scaler.inverse_transform(yhat.reshape(-1, 1))\n",
    "    true_q.put(bit_data[4])\n",
    "    pred_q.put(yhat_inverse[0])\n",
    "    val = 100*((yhat_inverse[0][0] - prev)/prev)\n",
    "    if val > threshold:\n",
    "        decision = 'Buy!!!'\n",
    "        message = client.messages.create(to=\"+15184234418‬\", from_=\"+15188883052\", body=decision+' - Price of Bitcoin is expected to rise.')\n",
    "    elif val <-threshold:\n",
    "        decision = 'Sell!!!'\n",
    "        message = client.messages.create(to=\"+15184234418\", from_=\"+15188883052\", body=decision+' - Price of Bitcoin is expected to drop.')\n",
    "    else:\n",
    "        decision = ''\n",
    "    prev = yhat_inverse[0][0]\n",
    "    input_string = \"INSERT INTO live_data values ({},{},{},'{}','{}');\".format(yhat_inverse[0][0],bit_data[0][0],sent_data[4][0],datetime.datetime.now(tz=est).strftime('%Y-%m-%d %H:%M:%S'),decision)\n",
    "    cursor.execute(input_string)\n",
    "    conn.commit()\n",
    "    time.sleep(60)"
   ]
  },
  {
   "cell_type": "code",
   "execution_count": 12,
   "metadata": {},
   "outputs": [
    {
     "name": "stdout",
     "output_type": "stream",
     "text": [
      "Collecting Historic-Crypto\n",
      "  Downloading Historic_Crypto-0.1.6-py3-none-any.whl (8.8 kB)\n",
      "Requirement already satisfied: requests in c:\\users\\lenovo\\anaconda3\\envs\\arth\\lib\\site-packages (from Historic-Crypto) (2.27.1)\n",
      "Requirement already satisfied: numpy in c:\\users\\lenovo\\anaconda3\\envs\\arth\\lib\\site-packages (from Historic-Crypto) (1.19.2)\n",
      "Requirement already satisfied: certifi>=2017.4.17 in c:\\users\\lenovo\\anaconda3\\envs\\arth\\lib\\site-packages (from requests->Historic-Crypto) (2020.12.5)\n",
      "Requirement already satisfied: urllib3<1.27,>=1.21.1 in c:\\users\\lenovo\\anaconda3\\envs\\arth\\lib\\site-packages (from requests->Historic-Crypto) (1.26.4)\n",
      "Requirement already satisfied: charset-normalizer~=2.0.0 in c:\\users\\lenovo\\anaconda3\\envs\\arth\\lib\\site-packages (from requests->Historic-Crypto) (2.0.12)\n",
      "Requirement already satisfied: idna<4,>=2.5 in c:\\users\\lenovo\\anaconda3\\envs\\arth\\lib\\site-packages (from requests->Historic-Crypto) (2.10)\n",
      "Installing collected packages: Historic-Crypto\n",
      "Successfully installed Historic-Crypto-0.1.6\n",
      "Note: you may need to restart the kernel to use updated packages.\n"
     ]
    }
   ],
   "source": [
    "pip install Historic-Crypto"
   ]
  },
  {
   "cell_type": "markdown",
   "metadata": {},
   "source": [
    "# Following youtube"
   ]
  },
  {
   "cell_type": "code",
   "execution_count": 1,
   "metadata": {},
   "outputs": [],
   "source": [
    "import pandas as pd\n",
    "datag = pd.read_csv('final_dataset.csv')"
   ]
  },
  {
   "cell_type": "code",
   "execution_count": 2,
   "metadata": {},
   "outputs": [
    {
     "data": {
      "text/html": [
       "<div>\n",
       "<style scoped>\n",
       "    .dataframe tbody tr th:only-of-type {\n",
       "        vertical-align: middle;\n",
       "    }\n",
       "\n",
       "    .dataframe tbody tr th {\n",
       "        vertical-align: top;\n",
       "    }\n",
       "\n",
       "    .dataframe thead th {\n",
       "        text-align: right;\n",
       "    }\n",
       "</style>\n",
       "<table border=\"1\" class=\"dataframe\">\n",
       "  <thead>\n",
       "    <tr style=\"text-align: right;\">\n",
       "      <th></th>\n",
       "      <th>Unnamed: 0</th>\n",
       "      <th>time_x</th>\n",
       "      <th>low</th>\n",
       "      <th>high</th>\n",
       "      <th>open</th>\n",
       "      <th>close</th>\n",
       "      <th>volume</th>\n",
       "      <th>pol</th>\n",
       "    </tr>\n",
       "  </thead>\n",
       "  <tbody>\n",
       "    <tr>\n",
       "      <th>0</th>\n",
       "      <td>5</td>\n",
       "      <td>06-01-2021</td>\n",
       "      <td>33352.54</td>\n",
       "      <td>37000.00</td>\n",
       "      <td>34043.91</td>\n",
       "      <td>36859.26</td>\n",
       "      <td>45744.10320</td>\n",
       "      <td>39.697416</td>\n",
       "    </tr>\n",
       "    <tr>\n",
       "      <th>1</th>\n",
       "      <td>6</td>\n",
       "      <td>07-01-2021</td>\n",
       "      <td>36200.00</td>\n",
       "      <td>40425.00</td>\n",
       "      <td>36859.26</td>\n",
       "      <td>39505.56</td>\n",
       "      <td>50346.30569</td>\n",
       "      <td>42.358659</td>\n",
       "    </tr>\n",
       "    <tr>\n",
       "      <th>2</th>\n",
       "      <td>7</td>\n",
       "      <td>08-01-2021</td>\n",
       "      <td>36565.08</td>\n",
       "      <td>41986.37</td>\n",
       "      <td>39510.55</td>\n",
       "      <td>40665.15</td>\n",
       "      <td>48522.48490</td>\n",
       "      <td>16.940548</td>\n",
       "    </tr>\n",
       "    <tr>\n",
       "      <th>3</th>\n",
       "      <td>8</td>\n",
       "      <td>09-01-2021</td>\n",
       "      <td>38800.00</td>\n",
       "      <td>41406.94</td>\n",
       "      <td>40642.15</td>\n",
       "      <td>40257.43</td>\n",
       "      <td>27152.97103</td>\n",
       "      <td>12.754143</td>\n",
       "    </tr>\n",
       "    <tr>\n",
       "      <th>4</th>\n",
       "      <td>9</td>\n",
       "      <td>10-01-2021</td>\n",
       "      <td>34444.00</td>\n",
       "      <td>41452.12</td>\n",
       "      <td>40257.43</td>\n",
       "      <td>38171.57</td>\n",
       "      <td>43736.57032</td>\n",
       "      <td>8.077794</td>\n",
       "    </tr>\n",
       "  </tbody>\n",
       "</table>\n",
       "</div>"
      ],
      "text/plain": [
       "   Unnamed: 0      time_x       low      high      open     close  \\\n",
       "0           5  06-01-2021  33352.54  37000.00  34043.91  36859.26   \n",
       "1           6  07-01-2021  36200.00  40425.00  36859.26  39505.56   \n",
       "2           7  08-01-2021  36565.08  41986.37  39510.55  40665.15   \n",
       "3           8  09-01-2021  38800.00  41406.94  40642.15  40257.43   \n",
       "4           9  10-01-2021  34444.00  41452.12  40257.43  38171.57   \n",
       "\n",
       "        volume        pol  \n",
       "0  45744.10320  39.697416  \n",
       "1  50346.30569  42.358659  \n",
       "2  48522.48490  16.940548  \n",
       "3  27152.97103  12.754143  \n",
       "4  43736.57032   8.077794  "
      ]
     },
     "execution_count": 2,
     "metadata": {},
     "output_type": "execute_result"
    }
   ],
   "source": [
    "datag.head()"
   ]
  },
  {
   "cell_type": "code",
   "execution_count": 3,
   "metadata": {},
   "outputs": [],
   "source": [
    "# datagg = datag.drop(['RSI','SMA'],axis=1)\n",
    "# datagg.head()"
   ]
  },
  {
   "cell_type": "code",
   "execution_count": 16,
   "metadata": {},
   "outputs": [
    {
     "data": {
      "text/html": [
       "<div>\n",
       "<style scoped>\n",
       "    .dataframe tbody tr th:only-of-type {\n",
       "        vertical-align: middle;\n",
       "    }\n",
       "\n",
       "    .dataframe tbody tr th {\n",
       "        vertical-align: top;\n",
       "    }\n",
       "\n",
       "    .dataframe thead th {\n",
       "        text-align: right;\n",
       "    }\n",
       "</style>\n",
       "<table border=\"1\" class=\"dataframe\">\n",
       "  <thead>\n",
       "    <tr style=\"text-align: right;\">\n",
       "      <th></th>\n",
       "      <th>low</th>\n",
       "      <th>high</th>\n",
       "      <th>open</th>\n",
       "      <th>close</th>\n",
       "      <th>volume</th>\n",
       "      <th>pol</th>\n",
       "    </tr>\n",
       "  </thead>\n",
       "  <tbody>\n",
       "    <tr>\n",
       "      <th>0</th>\n",
       "      <td>33352.54</td>\n",
       "      <td>37000.00</td>\n",
       "      <td>34043.91</td>\n",
       "      <td>36859.26</td>\n",
       "      <td>45744.10320</td>\n",
       "      <td>39.697416</td>\n",
       "    </tr>\n",
       "    <tr>\n",
       "      <th>1</th>\n",
       "      <td>36200.00</td>\n",
       "      <td>40425.00</td>\n",
       "      <td>36859.26</td>\n",
       "      <td>39505.56</td>\n",
       "      <td>50346.30569</td>\n",
       "      <td>42.358659</td>\n",
       "    </tr>\n",
       "    <tr>\n",
       "      <th>2</th>\n",
       "      <td>36565.08</td>\n",
       "      <td>41986.37</td>\n",
       "      <td>39510.55</td>\n",
       "      <td>40665.15</td>\n",
       "      <td>48522.48490</td>\n",
       "      <td>16.940548</td>\n",
       "    </tr>\n",
       "    <tr>\n",
       "      <th>3</th>\n",
       "      <td>38800.00</td>\n",
       "      <td>41406.94</td>\n",
       "      <td>40642.15</td>\n",
       "      <td>40257.43</td>\n",
       "      <td>27152.97103</td>\n",
       "      <td>12.754143</td>\n",
       "    </tr>\n",
       "    <tr>\n",
       "      <th>4</th>\n",
       "      <td>34444.00</td>\n",
       "      <td>41452.12</td>\n",
       "      <td>40257.43</td>\n",
       "      <td>38171.57</td>\n",
       "      <td>43736.57032</td>\n",
       "      <td>8.077794</td>\n",
       "    </tr>\n",
       "    <tr>\n",
       "      <th>...</th>\n",
       "      <td>...</td>\n",
       "      <td>...</td>\n",
       "      <td>...</td>\n",
       "      <td>...</td>\n",
       "      <td>...</td>\n",
       "      <td>...</td>\n",
       "    </tr>\n",
       "    <tr>\n",
       "      <th>355</th>\n",
       "      <td>50480.00</td>\n",
       "      <td>52100.00</td>\n",
       "      <td>50804.33</td>\n",
       "      <td>50717.77</td>\n",
       "      <td>11596.91468</td>\n",
       "      <td>18.403056</td>\n",
       "    </tr>\n",
       "    <tr>\n",
       "      <th>356</th>\n",
       "      <td>47300.23</td>\n",
       "      <td>50720.35</td>\n",
       "      <td>50720.35</td>\n",
       "      <td>47543.09</td>\n",
       "      <td>23116.75584</td>\n",
       "      <td>19.171833</td>\n",
       "    </tr>\n",
       "    <tr>\n",
       "      <th>357</th>\n",
       "      <td>46094.02</td>\n",
       "      <td>48149.58</td>\n",
       "      <td>47542.20</td>\n",
       "      <td>46471.24</td>\n",
       "      <td>20326.32142</td>\n",
       "      <td>16.132080</td>\n",
       "    </tr>\n",
       "    <tr>\n",
       "      <th>358</th>\n",
       "      <td>45938.44</td>\n",
       "      <td>47926.15</td>\n",
       "      <td>46471.24</td>\n",
       "      <td>47122.08</td>\n",
       "      <td>27413.65365</td>\n",
       "      <td>11.595228</td>\n",
       "    </tr>\n",
       "    <tr>\n",
       "      <th>359</th>\n",
       "      <td>45650.00</td>\n",
       "      <td>48574.70</td>\n",
       "      <td>47122.09</td>\n",
       "      <td>46211.24</td>\n",
       "      <td>19010.24135</td>\n",
       "      <td>8.413339</td>\n",
       "    </tr>\n",
       "  </tbody>\n",
       "</table>\n",
       "<p>360 rows × 6 columns</p>\n",
       "</div>"
      ],
      "text/plain": [
       "          low      high      open     close       volume        pol\n",
       "0    33352.54  37000.00  34043.91  36859.26  45744.10320  39.697416\n",
       "1    36200.00  40425.00  36859.26  39505.56  50346.30569  42.358659\n",
       "2    36565.08  41986.37  39510.55  40665.15  48522.48490  16.940548\n",
       "3    38800.00  41406.94  40642.15  40257.43  27152.97103  12.754143\n",
       "4    34444.00  41452.12  40257.43  38171.57  43736.57032   8.077794\n",
       "..        ...       ...       ...       ...          ...        ...\n",
       "355  50480.00  52100.00  50804.33  50717.77  11596.91468  18.403056\n",
       "356  47300.23  50720.35  50720.35  47543.09  23116.75584  19.171833\n",
       "357  46094.02  48149.58  47542.20  46471.24  20326.32142  16.132080\n",
       "358  45938.44  47926.15  46471.24  47122.08  27413.65365  11.595228\n",
       "359  45650.00  48574.70  47122.09  46211.24  19010.24135   8.413339\n",
       "\n",
       "[360 rows x 6 columns]"
      ]
     },
     "execution_count": 16,
     "metadata": {},
     "output_type": "execute_result"
    }
   ],
   "source": [
    "datagg = datag[['low','high','open','close','volume','pol']]\n",
    "datagg"
   ]
  },
  {
   "cell_type": "code",
   "execution_count": 5,
   "metadata": {},
   "outputs": [],
   "source": [
    "import datetime as dt\n",
    "import matplotlib.pyplot as plt\n",
    "\n",
    "from sklearn.metrics import mean_squared_error, mean_absolute_error, explained_variance_score, r2_score \n",
    "from sklearn.metrics import mean_poisson_deviance, mean_gamma_deviance, accuracy_score\n",
    "from sklearn.preprocessing import MinMaxScaler\n",
    "\n",
    "from itertools import product\n",
    "# import statsmodels.api as sm\n",
    "\n",
    "import tensorflow as tf\n",
    "\n",
    "from tensorflow.keras.models import Sequential\n",
    "from tensorflow.keras.layers import Dense, Dropout\n",
    "from tensorflow.keras.layers import LSTM\n",
    "\n",
    "from itertools import cycle\n",
    "import plotly.offline as py\n",
    "import plotly.graph_objects as go\n",
    "import plotly.express as px\n",
    "from plotly.subplots import make_subplots"
   ]
  },
  {
   "cell_type": "code",
   "execution_count": 101,
   "metadata": {},
   "outputs": [],
   "source": [
    "#pip install plotly"
   ]
  },
  {
   "cell_type": "code",
   "execution_count": 6,
   "metadata": {},
   "outputs": [],
   "source": [
    "prediction_days = 60\n",
    "\n",
    "# Set Train data to be uplo ( Total data length - prediction_days )\n",
    "df_train= datagg[:len(datagg)-prediction_days].values #.reshape(-1,1)\n",
    "\n",
    "\n",
    "# Set Test data to be the last prediction_days (or 60 days in this case)\n",
    "df_test= datagg[len(datagg)-prediction_days:].values#.reshape(-1,1)"
   ]
  },
  {
   "cell_type": "code",
   "execution_count": 7,
   "metadata": {},
   "outputs": [
    {
     "data": {
      "text/plain": [
       "(300, 6)"
      ]
     },
     "execution_count": 7,
     "metadata": {},
     "output_type": "execute_result"
    }
   ],
   "source": [
    "# datagg[:len(datagg)-prediction_days].values\n",
    "df_train.shape\n",
    "# x = df_test.reshape(-1,1)"
   ]
  },
  {
   "cell_type": "code",
   "execution_count": 8,
   "metadata": {},
   "outputs": [],
   "source": [
    "# x.reshape((60,6))\n",
    "# testing = [[1,2,3],[4,5,6],[7,8,9]]\n",
    "# tt = pd.DataFrame(testing)\n",
    "# testing.values"
   ]
  },
  {
   "cell_type": "code",
   "execution_count": 9,
   "metadata": {},
   "outputs": [],
   "source": [
    "# tt.values.reshape(-1,1)"
   ]
  },
  {
   "cell_type": "code",
   "execution_count": 10,
   "metadata": {},
   "outputs": [],
   "source": [
    "scaler_train = MinMaxScaler(feature_range=(0, 1))\n",
    "scaled_train = scaler_train.fit_transform(df_train.reshape(-1,1))\n",
    "scaled_train = scaled_train.reshape((300,6))\n",
    "\n",
    "scaler_test = MinMaxScaler(feature_range=(0, 1))\n",
    "scaled_test = scaler_test.fit_transform(df_test.reshape(-1,1))\n",
    "scaled_test = scaled_test.reshape((60,6))"
   ]
  },
  {
   "cell_type": "code",
   "execution_count": 11,
   "metadata": {},
   "outputs": [
    {
     "data": {
      "text/plain": [
       "array([[3.04510094e-01, 3.37807745e-01, 3.10821608e-01, 3.36522930e-01,\n",
       "        4.17632635e-01, 3.97259150e-04],\n",
       "       [3.30504547e-01, 3.69074559e-01, 3.36522930e-01, 3.60680994e-01,\n",
       "        4.59646127e-01, 4.21553634e-04],\n",
       "       [3.33837361e-01, 3.83328300e-01, 3.60726548e-01, 3.71266887e-01,\n",
       "        4.42996473e-01, 1.89511775e-04],\n",
       "       ...,\n",
       "       [5.54393286e-01, 5.69494381e-01, 5.68661360e-01, 5.65050477e-01,\n",
       "        6.20535870e-02, 1.71038958e-04],\n",
       "       [5.47783801e-01, 5.69930930e-01, 5.65086719e-01, 5.60041122e-01,\n",
       "        7.64552450e-02, 7.74910460e-05],\n",
       "       [5.43210173e-01, 5.70597164e-01, 5.60063853e-01, 5.56443019e-01,\n",
       "        1.07066339e-01, 1.07497001e-04]])"
      ]
     },
     "execution_count": 11,
     "metadata": {},
     "output_type": "execute_result"
    }
   ],
   "source": [
    "scaled_train"
   ]
  },
  {
   "cell_type": "code",
   "execution_count": 12,
   "metadata": {},
   "outputs": [
    {
     "data": {
      "text/plain": [
       "array([0.30451009, 0.33050455, 0.33383736, 0.35423994, 0.31447403,\n",
       "       0.27481767, 0.29672726])"
      ]
     },
     "execution_count": 12,
     "metadata": {},
     "output_type": "execute_result"
    }
   ],
   "source": [
    "#X values in dataset Generator\n",
    "scaled_train[0:7,0] "
   ]
  },
  {
   "cell_type": "code",
   "execution_count": 13,
   "metadata": {},
   "outputs": [
    {
     "data": {
      "text/plain": [
       "0.3414014654105549"
      ]
     },
     "execution_count": 13,
     "metadata": {},
     "output_type": "execute_result"
    }
   ],
   "source": [
    "#Y value in dataset generator\n",
    "scaled_train[7,3]"
   ]
  },
  {
   "cell_type": "code",
   "execution_count": 14,
   "metadata": {},
   "outputs": [
    {
     "name": "stdout",
     "output_type": "stream",
     "text": [
      "trainX:  (293, 7, 6)\n",
      "trainY:  (293,)\n",
      "testX:  (53, 7, 6)\n",
      "testY (53,)\n"
     ]
    }
   ],
   "source": [
    "import numpy as np\n",
    "def dataset_generator_lstm(dataset, look_back):\n",
    "    # A “lookback period” defines the window-size of how many\n",
    "    # previous timesteps are used in order to predict\n",
    "    # the subsequent timestep. \n",
    "    dataX, dataY = [], []\n",
    "    \n",
    "    for i in range(len(dataset) - look_back):\n",
    "        window_size_x = dataset[i:(i + look_back)]#, 0]\n",
    "        dataX.append(window_size_x)\n",
    "        dataY.append(dataset[i + look_back, 3]) # this is the label or actual y-value\n",
    "    return np.array(dataX), np.array(dataY)\n",
    "\n",
    "trainX, trainY = dataset_generator_lstm(scaled_train,7)\n",
    "\n",
    "testX, testY = dataset_generator_lstm(scaled_test,7)\n",
    "\n",
    "print(\"trainX: \", trainX.shape)\n",
    "print(\"trainY: \", trainY.shape)\n",
    "print(\"testX: \", testX.shape)\n",
    "print(\"testY\", testY.shape)"
   ]
  },
  {
   "cell_type": "code",
   "execution_count": 15,
   "metadata": {
    "collapsed": true
   },
   "outputs": [
    {
     "data": {
      "text/plain": [
       "array([[3.04510094e-01, 3.37807745e-01, 3.10821608e-01, 3.36522930e-01,\n",
       "        4.17632635e-01, 3.97259150e-04],\n",
       "       [3.30504547e-01, 3.69074559e-01, 3.36522930e-01, 3.60680994e-01,\n",
       "        4.59646127e-01, 4.21553634e-04],\n",
       "       [3.33837361e-01, 3.83328300e-01, 3.60726548e-01, 3.71266887e-01,\n",
       "        4.42996473e-01, 1.89511775e-04],\n",
       "       [3.54239939e-01, 3.78038686e-01, 3.71056920e-01, 3.67544813e-01,\n",
       "        2.47914248e-01, 1.51294099e-04],\n",
       "       [3.14474029e-01, 3.78451134e-01, 3.67544813e-01, 3.48503003e-01,\n",
       "        3.99305874e-01, 1.08603718e-04],\n",
       "       [2.74817666e-01, 3.49436991e-01, 3.48478538e-01, 3.23681444e-01,\n",
       "        9.35785855e-01, 1.07703813e-04],\n",
       "       [2.96727259e-01, 3.34197318e-01, 3.23720698e-01, 3.10776602e-01,\n",
       "        4.40304721e-01, 3.82462838e-04]])"
      ]
     },
     "execution_count": 15,
     "metadata": {},
     "output_type": "execute_result"
    }
   ],
   "source": [
    "trainX[0]"
   ]
  },
  {
   "cell_type": "markdown",
   "metadata": {},
   "source": [
    "## Reshaping as a 3D\n",
    "- not needed now as the trainX,testX are itself 3D"
   ]
  },
  {
   "cell_type": "code",
   "execution_count": 75,
   "metadata": {},
   "outputs": [
    {
     "name": "stdout",
     "output_type": "stream",
     "text": [
      "Shape of trainX:  (293, 7, 6)\n",
      "Shape of testX:  (53, 7, 6)\n"
     ]
    }
   ],
   "source": [
    "# trainX = np.reshape(trainX, (trainX.shape[0], trainX.shape[1], 1))\n",
    "\n",
    "# testX = np.reshape(testX, (testX.shape[0], testX.shape[1], 1 ))\n",
    "\n",
    "print(\"Shape of trainX: \", trainX.shape)\n",
    "print(\"Shape of testX: \", testX.shape)"
   ]
  },
  {
   "cell_type": "code",
   "execution_count": 76,
   "metadata": {},
   "outputs": [
    {
     "name": "stdout",
     "output_type": "stream",
     "text": [
      "trainX.shape[1] - i.e. timesteps in input_shape = (timesteps, n_features)  7\n",
      "trainX.shape[2] - i.e. n_features in input_shape = (timesteps, n_features)  6\n"
     ]
    }
   ],
   "source": [
    "print(\"trainX.shape[1] - i.e. timesteps in input_shape = (timesteps, n_features) \", trainX.shape[1])\n",
    "print(\"trainX.shape[2] - i.e. n_features in input_shape = (timesteps, n_features) \", trainX.shape[2])"
   ]
  },
  {
   "cell_type": "code",
   "execution_count": 77,
   "metadata": {},
   "outputs": [
    {
     "name": "stdout",
     "output_type": "stream",
     "text": [
      "Model: \"sequential_1\"\n",
      "_________________________________________________________________\n",
      "Layer (type)                 Output Shape              Param #   \n",
      "=================================================================\n",
      "lstm_2 (LSTM)                (None, 7, 128)            69120     \n",
      "_________________________________________________________________\n",
      "dropout_2 (Dropout)          (None, 7, 128)            0         \n",
      "_________________________________________________________________\n",
      "lstm_3 (LSTM)                (None, 64)                49408     \n",
      "_________________________________________________________________\n",
      "dropout_3 (Dropout)          (None, 64)                0         \n",
      "_________________________________________________________________\n",
      "dense_2 (Dense)              (None, 1)                 65        \n",
      "_________________________________________________________________\n",
      "dense_3 (Dense)              (None, 1)                 2         \n",
      "=================================================================\n",
      "Total params: 118,595\n",
      "Trainable params: 118,595\n",
      "Non-trainable params: 0\n",
      "_________________________________________________________________\n"
     ]
    }
   ],
   "source": [
    "regressor = Sequential()\n",
    "\n",
    "# Adding the first LSTM layer and some Dropout regularisation\n",
    "# You must set return_sequences=True when stacking LSTM layers so that the second LSTM layer\n",
    "# has a compatible n-dimensional sequence input.\n",
    "# This hyper parameter should be set to False (which is the default value) for the last layer\n",
    "# and true for the other previous layers.\n",
    "\n",
    "regressor.add(LSTM(units = 128, activation = 'relu',return_sequences=True, input_shape = (trainX.shape[1], trainX.shape[2])))\n",
    "regressor.add(Dropout(0.2))\n",
    "\n",
    "# Adding a second LSTM layer and some Dropout regularisation\n",
    "regressor.add(LSTM(units = 64, input_shape = (trainX.shape[1], trainX.shape[2])))\n",
    "# regressor.add(LSTM(units = 64, return_sequences = True, input_shape = (trainX.shape[1], trainX.shape[2])))\n",
    "regressor.add(Dropout(0.2))\n",
    "regressor.add(Dense(units = 1))\n",
    "\n",
    "# Note - If I plan to add 3-rd or 4-th layers of LSTM then \n",
    "# I must set return_sequences=True in the 2-nd layer above\n",
    "# so that the 3-rd LSTM layer has a compatible n-dimensional sequence input.\n",
    "\n",
    "# Adding a third LSTM layer and some Dropout regularisation\n",
    "# regressor.add(LSTM(units = 64, return_sequences = True, input_shape = (trainX.shape[1], trainX.shape[2])))\n",
    "# regressor.add(Dropout(0.2))\n",
    "\n",
    "\n",
    "# Adding a fourth LSTM layer and some Dropout regularisation\n",
    "# regressor.add(LSTM(units = 64, input_shape = (trainX.shape[1], trainX.shape[2])))\n",
    "# regressor.add(Dropout(0.2))\n",
    "\n",
    "\n",
    "# Adding the output layer\n",
    "regressor.add(Dense(units = 1))\n",
    "\n",
    "regressor.summary()"
   ]
  },
  {
   "cell_type": "code",
   "execution_count": 78,
   "metadata": {
    "scrolled": true
   },
   "outputs": [
    {
     "name": "stdout",
     "output_type": "stream",
     "text": [
      "Epoch 1/600\n",
      " 9/10 [==========================>...] - ETA: 0s - loss: 0.0553\n",
      "Epoch 00001: val_loss improved from inf to 0.03154, saving model to my_best_model.hdf5\n",
      "10/10 [==============================] - 2s 158ms/step - loss: 0.0545 - val_loss: 0.0315\n",
      "Epoch 2/600\n",
      " 9/10 [==========================>...] - ETA: 0s - loss: 0.0103\n",
      "Epoch 00002: val_loss did not improve from 0.03154\n",
      "10/10 [==============================] - 0s 26ms/step - loss: 0.0104 - val_loss: 0.0485\n",
      "Epoch 3/600\n",
      " 8/10 [=======================>......] - ETA: 0s - loss: 0.0065\n",
      "Epoch 00003: val_loss improved from 0.03154 to 0.00517, saving model to my_best_model.hdf5\n",
      "10/10 [==============================] - 0s 29ms/step - loss: 0.0063 - val_loss: 0.0052\n",
      "Epoch 4/600\n",
      " 8/10 [=======================>......] - ETA: 0s - loss: 0.0053\n",
      "Epoch 00004: val_loss did not improve from 0.00517\n",
      "10/10 [==============================] - 0s 19ms/step - loss: 0.0052 - val_loss: 0.0069\n",
      "Epoch 5/600\n",
      " 7/10 [====================>.........] - ETA: 0s - loss: 0.0030\n",
      "Epoch 00005: val_loss did not improve from 0.00517\n",
      "10/10 [==============================] - 0s 20ms/step - loss: 0.0031 - val_loss: 0.0123\n",
      "Epoch 6/600\n",
      "10/10 [==============================] - ETA: 0s - loss: 0.0032\n",
      "Epoch 00006: val_loss improved from 0.00517 to 0.00505, saving model to my_best_model.hdf5\n",
      "10/10 [==============================] - 0s 30ms/step - loss: 0.0032 - val_loss: 0.0050\n",
      "Epoch 7/600\n",
      " 9/10 [==========================>...] - ETA: 0s - loss: 0.0034\n",
      "Epoch 00007: val_loss did not improve from 0.00505\n",
      "10/10 [==============================] - 0s 32ms/step - loss: 0.0034 - val_loss: 0.0083\n",
      "Epoch 8/600\n",
      " 9/10 [==========================>...] - ETA: 0s - loss: 0.0034\n",
      "Epoch 00008: val_loss did not improve from 0.00505\n",
      "10/10 [==============================] - 0s 28ms/step - loss: 0.0035 - val_loss: 0.0057\n",
      "Epoch 9/600\n",
      "10/10 [==============================] - ETA: 0s - loss: 0.0034\n",
      "Epoch 00009: val_loss did not improve from 0.00505\n",
      "10/10 [==============================] - 0s 21ms/step - loss: 0.0034 - val_loss: 0.0056\n",
      "Epoch 10/600\n",
      "10/10 [==============================] - ETA: 0s - loss: 0.0028\n",
      "Epoch 00010: val_loss improved from 0.00505 to 0.00457, saving model to my_best_model.hdf5\n",
      "10/10 [==============================] - 0s 33ms/step - loss: 0.0028 - val_loss: 0.0046\n",
      "Epoch 11/600\n",
      " 9/10 [==========================>...] - ETA: 0s - loss: 0.0030\n",
      "Epoch 00011: val_loss improved from 0.00457 to 0.00363, saving model to my_best_model.hdf5\n",
      "10/10 [==============================] - 1s 51ms/step - loss: 0.0030 - val_loss: 0.0036\n",
      "Epoch 12/600\n",
      " 9/10 [==========================>...] - ETA: 0s - loss: 0.0028\n",
      "Epoch 00012: val_loss improved from 0.00363 to 0.00298, saving model to my_best_model.hdf5\n",
      "10/10 [==============================] - 1s 51ms/step - loss: 0.0028 - val_loss: 0.0030\n",
      "Epoch 13/600\n",
      " 9/10 [==========================>...] - ETA: 0s - loss: 0.0027\n",
      "Epoch 00013: val_loss did not improve from 0.00298\n",
      "10/10 [==============================] - 0s 37ms/step - loss: 0.0027 - val_loss: 0.0034\n",
      "Epoch 14/600\n",
      " 9/10 [==========================>...] - ETA: 0s - loss: 0.0029\n",
      "Epoch 00014: val_loss improved from 0.00298 to 0.00281, saving model to my_best_model.hdf5\n",
      "10/10 [==============================] - 1s 51ms/step - loss: 0.0029 - val_loss: 0.0028\n",
      "Epoch 15/600\n",
      " 9/10 [==========================>...] - ETA: 0s - loss: 0.002 - ETA: 0s - loss: 0.0026\n",
      "Epoch 00015: val_loss improved from 0.00281 to 0.00267, saving model to my_best_model.hdf5\n",
      "10/10 [==============================] - 1s 54ms/step - loss: 0.0026 - val_loss: 0.0027\n",
      "Epoch 16/600\n",
      " 9/10 [==========================>...] - ETA: 0s - loss: 0.0027\n",
      "Epoch 00016: val_loss improved from 0.00267 to 0.00190, saving model to my_best_model.hdf5\n",
      "10/10 [==============================] - 1s 53ms/step - loss: 0.0027 - val_loss: 0.0019\n",
      "Epoch 17/600\n",
      "10/10 [==============================] - ETA: 0s - loss: 0.0024\n",
      "Epoch 00017: val_loss did not improve from 0.00190\n",
      "10/10 [==============================] - 0s 23ms/step - loss: 0.0024 - val_loss: 0.0026\n",
      "Epoch 18/600\n",
      " 9/10 [==========================>...] - ETA: 0s - loss: 0.0025\n",
      "Epoch 00018: val_loss improved from 0.00190 to 0.00171, saving model to my_best_model.hdf5\n",
      "10/10 [==============================] - 0s 30ms/step - loss: 0.0026 - val_loss: 0.0017\n",
      "Epoch 19/600\n",
      " 9/10 [==========================>...] - ETA: 0s - loss: 0.0027\n",
      "Epoch 00019: val_loss did not improve from 0.00171\n",
      "10/10 [==============================] - 0s 37ms/step - loss: 0.0027 - val_loss: 0.0055\n",
      "Epoch 20/600\n",
      " 9/10 [==========================>...] - ETA: 0s - loss: 0.0028\n",
      "Epoch 00020: val_loss did not improve from 0.00171\n",
      "10/10 [==============================] - 0s 36ms/step - loss: 0.0027 - val_loss: 0.0018\n",
      "Epoch 21/600\n",
      "10/10 [==============================] - ETA: 0s - loss: 0.0022\n",
      "Epoch 00021: val_loss did not improve from 0.00171\n",
      "10/10 [==============================] - 0s 23ms/step - loss: 0.0022 - val_loss: 0.0025\n",
      "Epoch 22/600\n",
      "10/10 [==============================] - ETA: 0s - loss: 0.0022\n",
      "Epoch 00022: val_loss did not improve from 0.00171\n",
      "10/10 [==============================] - 0s 23ms/step - loss: 0.0022 - val_loss: 0.0028\n",
      "Epoch 23/600\n",
      "10/10 [==============================] - ETA: 0s - loss: 0.0025\n",
      "Epoch 00023: val_loss did not improve from 0.00171\n",
      "10/10 [==============================] - 0s 24ms/step - loss: 0.0025 - val_loss: 0.0022\n",
      "Epoch 24/600\n",
      " 9/10 [==========================>...] - ETA: 0s - loss: 0.0025\n",
      "Epoch 00024: val_loss did not improve from 0.00171\n",
      "10/10 [==============================] - 0s 36ms/step - loss: 0.0025 - val_loss: 0.0025\n",
      "Epoch 25/600\n",
      " 9/10 [==========================>...] - ETA: 0s - loss: 0.0023\n",
      "Epoch 00025: val_loss did not improve from 0.00171\n",
      "10/10 [==============================] - 0s 36ms/step - loss: 0.0023 - val_loss: 0.0019\n",
      "Epoch 26/600\n",
      " 9/10 [==========================>...] - ETA: 0s - loss: 0.0021\n",
      "Epoch 00026: val_loss did not improve from 0.00171\n",
      "10/10 [==============================] - 0s 36ms/step - loss: 0.0020 - val_loss: 0.0017\n",
      "Epoch 27/600\n",
      " 9/10 [==========================>...] - ETA: 0s - loss: 0.0019\n",
      "Epoch 00027: val_loss did not improve from 0.00171\n",
      "10/10 [==============================] - 0s 37ms/step - loss: 0.0020 - val_loss: 0.0021\n",
      "Epoch 28/600\n",
      " 9/10 [==========================>...] - ETA: 0s - loss: 0.0022\n",
      "Epoch 00028: val_loss did not improve from 0.00171\n",
      "10/10 [==============================] - 0s 37ms/step - loss: 0.0022 - val_loss: 0.0019\n"
     ]
    }
   ],
   "source": [
    "from tensorflow.keras.callbacks import ModelCheckpoint, EarlyStopping\n",
    "\n",
    "# Compiling the LSTM\n",
    "regressor.compile(optimizer = 'adam', loss = 'mean_squared_error')\n",
    "\n",
    "checkpoint_path = 'my_best_model.hdf5'\n",
    "\n",
    "checkpoint = ModelCheckpoint(filepath=checkpoint_path, \n",
    "                             monitor='val_loss',\n",
    "                             verbose=1, \n",
    "                             save_best_only=True,\n",
    "                             mode='min')\n",
    "\n",
    "\n",
    "earlystopping = EarlyStopping(monitor='val_loss', patience=10, restore_best_weights=True)\n",
    "\n",
    "callbacks = [checkpoint, earlystopping]\n",
    "# callbacks = [checkpoint]\n",
    "\n",
    "\n",
    "history = regressor.fit(trainX, trainY, batch_size = 32, epochs = 600, verbose=1, shuffle=False, validation_data=(testX, testY), callbacks=callbacks)"
   ]
  },
  {
   "cell_type": "code",
   "execution_count": 79,
   "metadata": {},
   "outputs": [],
   "source": [
    "from tensorflow.keras.models import load_model\n",
    "\n",
    "model_from_saved_checkpoint = load_model(checkpoint_path)"
   ]
  },
  {
   "cell_type": "code",
   "execution_count": 80,
   "metadata": {},
   "outputs": [
    {
     "data": {
      "image/png": "[encoded data removed]",
      "text/plain": [
       "<Figure size 1152x504 with 1 Axes>"
      ]
     },
     "metadata": {
      "needs_background": "light"
     },
     "output_type": "display_data"
    }
   ],
   "source": [
    "plt.figure(figsize=(16,7))\n",
    "plt.plot(history.history['loss'], label='train')\n",
    "\n",
    "plt.plot(history.history['val_loss'], label='test')\n",
    "plt.legend()\n",
    "plt.show()"
   ]
  },
  {
   "cell_type": "markdown",
   "metadata": {},
   "source": [
    "## LSTM Predictions using testX and plotting line graph against Actual testY"
   ]
  },
  {
   "cell_type": "code",
   "execution_count": 81,
   "metadata": {},
   "outputs": [
    {
     "data": {
      "text/plain": [
       "53"
      ]
     },
     "execution_count": 81,
     "metadata": {},
     "output_type": "execute_result"
    }
   ],
   "source": [
    "len(testX)"
   ]
  },
  {
   "cell_type": "code",
   "execution_count": 82,
   "metadata": {},
   "outputs": [],
   "source": [
    "predicted_btc_price_test_data = model_from_saved_checkpoint.predict(testX)\n"
   ]
  },
  {
   "cell_type": "code",
   "execution_count": 38,
   "metadata": {},
   "outputs": [],
   "source": [
    "# len(predicted_btc_price_test_data)\n",
    "# testY.reshape(-1,1)\n",
    "# predicted_btc_price_test_data.reshape(-1 ,6)"
   ]
  },
  {
   "cell_type": "code",
   "execution_count": 83,
   "metadata": {
    "collapsed": true
   },
   "outputs": [
    {
     "data": {
      "text/plain": [
       "array([0.97021118, 0.94075396, 0.93923781, 0.92967667, 0.9333306 ,\n",
       "       0.94934593, 0.92209214, 0.87112457, 0.87465415, 0.82460111,\n",
       "       0.84234333, 0.86609218, 0.85030092, 0.81565595, 0.83429501,\n",
       "       0.82843693, 0.8548817 , 0.77908712, 0.7936005 , 0.8306763 ,\n",
       "       0.83822576, 0.82590508, 0.82936219, 0.81914378, 0.77735328,\n",
       "       0.71362704, 0.71715038, 0.73230089, 0.7336911 , 0.7321577 ,\n",
       "       0.68938411, 0.68362314, 0.71604207, 0.72592497, 0.67720185,\n",
       "       0.70096432, 0.70846247, 0.69033763, 0.66906541, 0.67910874,\n",
       "       0.67661196, 0.68007414, 0.70889611, 0.70445998, 0.7368321 ,\n",
       "       0.73696515, 0.73083344, 0.73624643, 0.73502869, 0.68901685,\n",
       "       0.67348212, 0.68291499, 0.66971384])"
      ]
     },
     "execution_count": 83,
     "metadata": {},
     "output_type": "execute_result"
    }
   ],
   "source": [
    "testY"
   ]
  },
  {
   "cell_type": "code",
   "execution_count": 114,
   "metadata": {
    "collapsed": true
   },
   "outputs": [
    {
     "data": {
      "text/plain": [
       "array([4.39175168e-03, 8.70574116e-01, 9.21277177e-01, 9.16902206e-01,\n",
       "       9.12103592e-01, 1.87673178e-01, 2.67937783e-04, 4.40624506e-03,\n",
       "       8.80121920e-01, 9.14693994e-01, 9.12103447e-01, 8.90495267e-01,\n",
       "       1.60134114e-01, 1.73318354e-04, 4.42073844e-03, 8.80820936e-01,\n",
       "       9.07801667e-01, 8.90495122e-01, 8.84142094e-01, 1.53569159e-01,\n",
       "       1.82876990e-04, 4.43523182e-03, 8.71371252e-01, 8.92738118e-01,\n",
       "       8.84141949e-01, 8.91869384e-01, 9.22279914e-02, 1.10316814e-04,\n",
       "       4.44972520e-03, 8.89819296e-01, 9.17792969e-01, 8.91869240e-01,\n",
       "       9.17520058e-01, 8.10620887e-02, 1.84140861e-04, 4.46421858e-03,\n",
       "       9.17519913e-01, 9.82503157e-01, 9.17519913e-01, 9.79054747e-01,\n",
       "       2.55937015e-01, 1.69525151e-04, 4.47871196e-03, 9.60314082e-01,\n",
       "       9.93751179e-01, 9.79044457e-01, 9.70211176e-01, 2.17308564e-01,\n",
       "       3.75261777e-04, 4.49320534e-03, 9.10141044e-01, 1.00000000e+00,\n",
       "       9.70125665e-01, 9.40753961e-01, 2.75769353e-01, 2.32434821e-04,\n",
       "       4.50769872e-03, 9.29472024e-01, 9.50722508e-01, 9.40753961e-01,\n",
       "       9.39237809e-01, 1.48651823e-01, 1.32254190e-04, 4.52219210e-03,\n",
       "       9.02894354e-01, 9.48940692e-01, 9.39239838e-01, 9.29676671e-01,\n",
       "       1.97916443e-01, 8.34497847e-05, 4.53668548e-03, 9.18752575e-01,\n",
       "       9.41881546e-01, 9.29626234e-01, 9.33330597e-01, 8.64547702e-02,\n",
       "       5.96741451e-05, 4.55117886e-03, 9.21690818e-01, 9.49635504e-01,\n",
       "       9.33330597e-01, 9.49345927e-01, 8.80993154e-02, 1.69543971e-04,\n",
       "       4.56567224e-03, 9.18416764e-01, 9.61446160e-01, 9.49346072e-01,\n",
       "       9.22092140e-01, 1.51072805e-01, 2.12656122e-04, 4.58016562e-03,\n",
       "       8.49819596e-01, 9.22092285e-01, 9.22040833e-01, 8.71124575e-01,\n",
       "       3.60989087e-01, 1.49544596e-04, 4.59465900e-03, 8.46080304e-01,\n",
       "       8.81507632e-01, 8.71031527e-01, 8.74654148e-01, 3.02972996e-01,\n",
       "       5.60282967e-05, 4.60915238e-03, 8.19037541e-01, 8.83722656e-01,\n",
       "       8.74654148e-01, 8.24601115e-01, 3.87643273e-01, 1.10046040e-04,\n",
       "       4.62364576e-03, 8.06151042e-01, 8.46545831e-01, 8.24607782e-01,\n",
       "       8.42343331e-01, 2.68875076e-01, 2.14180738e-04, 4.63813914e-03,\n",
       "       8.32215212e-01, 8.68110242e-01, 8.42343186e-01, 8.66092183e-01,\n",
       "       1.09884027e-01, 2.01954475e-04, 4.65263252e-03, 8.47959950e-01,\n",
       "       8.70574116e-01, 8.66092183e-01, 8.50300921e-01, 9.65024915e-02,\n",
       "       2.11333961e-04, 4.66712590e-03, 8.06383371e-01, 8.62697109e-01,\n",
       "       8.50301066e-01, 8.15655946e-01, 2.30245293e-01, 2.74753207e-04,\n",
       "       4.68161928e-03, 8.02556684e-01, 8.38921009e-01, 8.15655946e-01,\n",
       "       8.34295012e-01, 2.03150801e-01, 0.00000000e+00, 4.69611266e-03,\n",
       "       8.09774532e-01, 8.34890980e-01, 8.34234140e-01, 8.28436933e-01,\n",
       "       1.81258232e-01, 2.27663719e-04, 4.71060604e-03, 8.26616274e-01,\n",
       "       8.61530102e-01, 8.28377800e-01, 8.54881699e-01, 1.54581965e-01,\n",
       "       3.21484609e-04, 4.72509942e-03, 7.75830891e-01, 8.57877915e-01,\n",
       "       8.54989675e-01, 7.79087119e-01, 3.76006389e-01, 1.21422915e-04,\n",
       "       4.73959280e-03, 7.77419076e-01, 8.01682298e-01, 7.79087119e-01,\n",
       "       7.93600500e-01, 1.14444385e-01, 1.44159644e-05, 4.75408618e-03,\n",
       "       7.72845255e-01, 8.33181196e-01, 7.93600355e-01, 8.30676305e-01,\n",
       "       1.19127507e-01, 1.69511087e-04, 4.76857956e-03, 8.22166227e-01,\n",
       "       8.53736722e-01, 8.30695726e-01, 8.38225762e-01, 1.94954095e-01,\n",
       "       1.48421812e-04, 4.78307294e-03, 8.10286438e-01, 8.58686211e-01,\n",
       "       8.38225762e-01, 8.25905084e-01, 2.61399783e-01, 3.17538770e-04,\n",
       "       4.79756632e-03, 8.18336351e-01, 8.56788593e-01, 8.26055525e-01,\n",
       "       8.29362190e-01, 2.40652814e-01, 3.61097185e-04, 4.81205970e-03,\n",
       "       8.09339586e-01, 8.32220140e-01, 8.29362335e-01, 8.19143777e-01,\n",
       "       1.87924605e-01, 5.60615567e-04, 4.82655308e-03, 7.48394923e-01,\n",
       "       8.35799860e-01, 8.19143633e-01, 7.77353276e-01, 2.83557892e-01,\n",
       "       1.95980677e-04, 4.84104646e-03, 6.13505035e-01, 7.80803425e-01,\n",
       "       7.77280519e-01, 7.13627043e-01, 5.65536726e-01, 2.43934410e-04,\n",
       "       4.85553984e-03, 6.93131664e-01, 7.21480716e-01, 7.13542112e-01,\n",
       "       7.17150384e-01, 3.14856449e-01, 6.43467990e-05, 4.87003322e-03,\n",
       "       6.84044315e-01, 7.40640964e-01, 7.17150239e-01, 7.32300894e-01,\n",
       "       3.34497391e-01, 2.53757954e-04, 4.88452660e-03, 7.25598285e-01,\n",
       "       7.53540072e-01, 7.32300894e-01, 7.33691099e-01, 2.04419704e-01,\n",
       "       2.69978639e-04, 4.89901998e-03, 7.05060006e-01, 7.42742504e-01,\n",
       "       7.33687620e-01, 7.32157699e-01, 1.90385179e-01, 4.31301533e-04,\n",
       "       4.91351336e-03, 6.85830334e-01, 7.36870656e-01, 7.32175961e-01,\n",
       "       6.89384111e-01, 2.28219170e-01, 2.71283886e-04, 4.92800674e-03,\n",
       "       6.79696301e-01, 7.26777901e-01, 6.89384111e-01, 6.83623138e-01,\n",
       "       2.27351739e-01, 3.06369013e-04, 4.94250012e-03, 6.78055361e-01,\n",
       "       7.17628086e-01, 6.83623138e-01, 7.16042075e-01, 1.60039403e-01,\n",
       "       2.92673197e-04, 4.95699350e-03, 7.05283349e-01, 7.36628182e-01,\n",
       "       7.16284404e-01, 7.25924966e-01, 1.50848543e-01, 2.24907471e-04,\n",
       "       4.97148688e-03, 6.62708900e-01, 7.27791423e-01, 7.25924966e-01,\n",
       "       6.77201846e-01, 3.01379781e-01, 1.70260475e-04, 4.98598026e-03,\n",
       "       6.71000273e-01, 7.05594667e-01, 6.77201846e-01, 7.00964322e-01,\n",
       "       2.47895527e-01, 1.59005506e-04, 5.00047364e-03, 6.74333751e-01,\n",
       "       7.17379089e-01, 7.00845476e-01, 7.08462472e-01, 3.13328435e-01,\n",
       "       1.15369012e-04, 5.01496702e-03, 6.88749736e-01, 7.16790513e-01,\n",
       "       7.08376236e-01, 6.90337631e-01, 1.84475431e-01, 8.95426655e-05,\n",
       "       5.02946040e-03, 6.58960912e-01, 6.95639019e-01, 6.90337341e-01,\n",
       "       6.69065407e-01, 2.68897082e-01, 2.37220889e-04, 5.04395378e-03,\n",
       "       6.59633405e-01, 6.86489783e-01, 6.68969316e-01, 6.79108740e-01,\n",
       "       1.18380056e-01, 9.74662976e-05, 5.05844716e-03, 6.73030941e-01,\n",
       "       7.00739530e-01, 6.79080188e-01, 6.76611965e-01, 1.37915017e-01,\n",
       "       9.65014927e-05, 5.07294054e-03, 6.60391119e-01, 6.89101490e-01,\n",
       "       6.76612110e-01, 6.80074144e-01, 2.32421681e-01, 9.32139694e-05,\n",
       "       5.08743392e-03, 6.76001214e-01, 7.15050148e-01, 6.80074144e-01,\n",
       "       7.08896114e-01, 2.24044877e-01, 8.58056001e-05, 5.10192730e-03,\n",
       "       7.02161040e-01, 7.18755960e-01, 7.08896114e-01, 7.04459980e-01,\n",
       "       1.55811326e-01, 2.25796885e-04, 5.11642068e-03, 6.96105126e-01,\n",
       "       7.44884916e-01, 7.04459835e-01, 7.36832104e-01, 2.40938878e-01,\n",
       "       1.72790082e-04, 5.13091406e-03, 7.31083305e-01, 7.51853043e-01,\n",
       "       7.36830075e-01, 7.36965153e-01, 1.69390973e-01, 3.51160564e-04,\n",
       "       5.14540744e-03, 7.27406189e-01, 7.41607383e-01, 7.36978632e-01,\n",
       "       7.30833439e-01, 8.04033200e-02, 5.75909149e-04, 5.15990082e-03,\n",
       "       7.16799354e-01, 7.43399489e-01, 7.30833439e-01, 7.36246426e-01,\n",
       "       9.94305657e-02, 2.69963802e-04, 5.17439420e-03, 7.31582602e-01,\n",
       "       7.55061877e-01, 7.36283240e-01, 7.35028693e-01, 1.68035269e-01,\n",
       "       2.23499875e-04, 5.18888758e-03, 6.85496987e-01, 7.35066086e-01,\n",
       "       7.35066086e-01, 6.89016849e-01, 3.34996705e-01, 2.34642053e-04,\n",
       "       5.20338096e-03, 6.68014927e-01, 6.97806939e-01, 6.89003950e-01,\n",
       "       6.73482120e-01, 2.94553879e-01, 1.90585750e-04, 5.21787434e-03,\n",
       "       6.65760047e-01, 6.94568683e-01, 6.73482120e-01, 6.82914991e-01,\n",
       "       3.97273278e-01, 1.24831437e-04, 5.23236772e-03, 6.61579576e-01,\n",
       "       7.03968365e-01, 6.82915136e-01, 6.69713841e-01, 2.75479430e-01,\n",
       "       7.87151103e-05])"
      ]
     },
     "execution_count": 114,
     "metadata": {},
     "output_type": "execute_result"
    }
   ],
   "source": [
    "# predicted_btc_price_test_data_original = predicted_btc_price_test_data\n",
    "# testY"
   ]
  },
  {
   "cell_type": "code",
   "execution_count": 28,
   "metadata": {},
   "outputs": [],
   "source": []
  },
  {
   "cell_type": "code",
   "execution_count": 84,
   "metadata": {},
   "outputs": [],
   "source": [
    "# scaler_test2 = MinMaxScaler(feature_range=(0, 1))\n",
    "# ValueError: non-broadcastable output operand with shape (53,1) doesn't match the broadcast shape (53,6)\n",
    "#here inverser_transorm prev applied on (53,6) and hence doesn't works for predicted price of shape(53,1)\n",
    "#created a array of shape (53,6) with zeros and replace first pos with pred_price array\n",
    "\n",
    "# nn = np.zeros((53,6))\n",
    "# nn[:,0]= predicted_btc_price_test_data[:,0]\n",
    "# nn.reshape(-1,1)\n",
    "# predicted_btc_price_test_data = scaler_test.inverse_transform(nn)\n",
    "\n",
    "predicted_btc_price_test_data = scaler_test.inverse_transform(predicted_btc_price_test_data.reshape(-1, 1))\n",
    "\n",
    "test_actual = scaler_test.inverse_transform(testY.reshape(-1, 1))"
   ]
  },
  {
   "cell_type": "code",
   "execution_count": 85,
   "metadata": {
    "collapsed": true
   },
   "outputs": [
    {
     "data": {
      "text/plain": [
       "array([[59538.63 ],\n",
       "       [60076.074],\n",
       "       [60555.57 ],\n",
       "       [61053.87 ],\n",
       "       [61432.31 ],\n",
       "       [61779.336],\n",
       "       [62007.562],\n",
       "       [62062.1  ],\n",
       "       [61351.88 ],\n",
       "       [60586.   ],\n",
       "       [59400.688],\n",
       "       [58226.945],\n",
       "       [57167.418],\n",
       "       [56341.16 ],\n",
       "       [55510.605],\n",
       "       [55251.906],\n",
       "       [55065.03 ],\n",
       "       [55253.48 ],\n",
       "       [55025.83 ],\n",
       "       [54420.207],\n",
       "       [53875.145],\n",
       "       [53848.227],\n",
       "       [53854.418],\n",
       "       [53828.543],\n",
       "       [53690.883],\n",
       "       [53790.05 ],\n",
       "       [52785.17 ],\n",
       "       [51462.277],\n",
       "       [49951.582],\n",
       "       [48874.254],\n",
       "       [47962.12 ],\n",
       "       [47068.96 ],\n",
       "       [46429.785],\n",
       "       [46850.277],\n",
       "       [47046.1  ],\n",
       "       [46995.566],\n",
       "       [46525.98 ],\n",
       "       [46081.25 ],\n",
       "       [45989.91 ],\n",
       "       [45848.562],\n",
       "       [45639.2  ],\n",
       "       [45314.4  ],\n",
       "       [45289.13 ],\n",
       "       [45302.62 ],\n",
       "       [45526.87 ],\n",
       "       [45647.848],\n",
       "       [46278.105],\n",
       "       [46912.926],\n",
       "       [47525.363],\n",
       "       [48238.785],\n",
       "       [48388.51 ],\n",
       "       [48010.633],\n",
       "       [47363.62 ]], dtype=float32)"
      ]
     },
     "execution_count": 85,
     "metadata": {},
     "output_type": "execute_result"
    }
   ],
   "source": [
    "predicted_btc_price_test_data"
   ]
  },
  {
   "cell_type": "code",
   "execution_count": 49,
   "metadata": {},
   "outputs": [],
   "source": [
    "# test_actual = testY"
   ]
  },
  {
   "cell_type": "code",
   "execution_count": 86,
   "metadata": {},
   "outputs": [
    {
     "data": {
      "image/png": "[encoded data removed]",
      "text/plain": [
       "<Figure size 1152x504 with 1 Axes>"
      ]
     },
     "metadata": {
      "needs_background": "light"
     },
     "output_type": "display_data"
    }
   ],
   "source": [
    "plt.figure(figsize=(16,7))\n",
    "\n",
    "plt.plot(predicted_btc_price_test_data, 'r', marker='.', label='Predicted Test')\n",
    "\n",
    "plt.plot(test_actual, marker='.', label='Actual Test')\n",
    "\n",
    "plt.legend()\n",
    "plt.show()"
   ]
  },
  {
   "cell_type": "markdown",
   "metadata": {},
   "source": [
    "## LSTM Prediction using trainX and plotting line graph against Actual trainY"
   ]
  },
  {
   "cell_type": "code",
   "execution_count": 87,
   "metadata": {},
   "outputs": [],
   "source": [
    "predicted_btc_price_train_data = model_from_saved_checkpoint.predict(trainX)\n",
    "\n",
    "predicted_btc_price_train_data = scaler_train.inverse_transform(predicted_btc_price_train_data.reshape(-1, 1))\n",
    "\n",
    "train_actual = scaler_train.inverse_transform(trainY.reshape(-1, 1))\n",
    "# train_actual = trainY"
   ]
  },
  {
   "cell_type": "code",
   "execution_count": 88,
   "metadata": {},
   "outputs": [
    {
     "data": {
      "image/png": "[encoded data removed]",
      "text/plain": [
       "<Figure size 1152x504 with 1 Axes>"
      ]
     },
     "metadata": {
      "needs_background": "light"
     },
     "output_type": "display_data"
    }
   ],
   "source": [
    "plt.figure(figsize=(16,7))\n",
    "\n",
    "plt.plot(predicted_btc_price_train_data, 'r', marker='.', label='Predicted Train')\n",
    "\n",
    "plt.plot(train_actual, marker='.', label='Actual Train')\n",
    "\n",
    "plt.legend()\n",
    "plt.show()"
   ]
  },
  {
   "cell_type": "markdown",
   "metadata": {},
   "source": [
    "## RMSE - Test Data"
   ]
  },
  {
   "cell_type": "code",
   "execution_count": 89,
   "metadata": {},
   "outputs": [
    {
     "name": "stdout",
     "output_type": "stream",
     "text": [
      "Test RMSE: 2855.296\n"
     ]
    }
   ],
   "source": [
    "import math\n",
    "rmse_lstm_test = math.sqrt(mean_squared_error(test_actual, predicted_btc_price_test_data))\n",
    "\n",
    "print('Test RMSE: %.3f' % rmse_lstm_test)\n",
    "#prev rmse=8788.126"
   ]
  },
  {
   "cell_type": "markdown",
   "metadata": {},
   "source": [
    "## RMSE - Train Data"
   ]
  },
  {
   "cell_type": "code",
   "execution_count": 90,
   "metadata": {},
   "outputs": [
    {
     "name": "stdout",
     "output_type": "stream",
     "text": [
      "Test RMSE: 3489.402\n"
     ]
    }
   ],
   "source": [
    "rmse_lstm_train = math.sqrt(mean_squared_error(train_actual, predicted_btc_price_train_data))\n",
    "\n",
    "print('Test RMSE: %.3f' % rmse_lstm_train)\n",
    "#prev is 6079.801"
   ]
  },
  {
   "cell_type": "markdown",
   "metadata": {},
   "source": [
    "## Predicting beyond existing data"
   ]
  },
  {
   "cell_type": "code",
   "execution_count": 91,
   "metadata": {},
   "outputs": [
    {
     "data": {
      "text/plain": [
       "(53, 7, 6)"
      ]
     },
     "execution_count": 91,
     "metadata": {},
     "output_type": "execute_result"
    }
   ],
   "source": [
    "testX\n",
    "testX.shape"
   ]
  },
  {
   "cell_type": "code",
   "execution_count": 92,
   "metadata": {},
   "outputs": [
    {
     "data": {
      "text/plain": [
       "(7, 7, 6)"
      ]
     },
     "execution_count": 92,
     "metadata": {},
     "output_type": "execute_result"
    }
   ],
   "source": [
    "lookback_period = 7\n",
    "\n",
    "# That is the original Trading data ended on 30-Oct-2021, but now I am going to forecast for Future 5 days beyond 30-Oct-2021\n",
    "\n",
    "testX_last_7_days = testX[testX.shape[0] - lookback_period :  ]\n",
    "\n",
    "testX_last_7_days.shape"
   ]
  },
  {
   "cell_type": "code",
   "execution_count": 93,
   "metadata": {
    "collapsed": true
   },
   "outputs": [
    {
     "data": {
      "text/plain": [
       "array([[[6.59633405e-01, 6.86489783e-01, 6.68969316e-01, 6.79108740e-01,\n",
       "         1.18380056e-01, 9.74662976e-05],\n",
       "        [6.73030941e-01, 7.00739530e-01, 6.79080188e-01, 6.76611965e-01,\n",
       "         1.37915017e-01, 9.65014927e-05],\n",
       "        [6.60391119e-01, 6.89101490e-01, 6.76612110e-01, 6.80074144e-01,\n",
       "         2.32421681e-01, 9.32139694e-05],\n",
       "        [6.76001214e-01, 7.15050148e-01, 6.80074144e-01, 7.08896114e-01,\n",
       "         2.24044877e-01, 8.58056001e-05],\n",
       "        [7.02161040e-01, 7.18755960e-01, 7.08896114e-01, 7.04459980e-01,\n",
       "         1.55811326e-01, 2.25796885e-04],\n",
       "        [6.96105126e-01, 7.44884916e-01, 7.04459835e-01, 7.36832104e-01,\n",
       "         2.40938878e-01, 1.72790082e-04],\n",
       "        [7.31083305e-01, 7.51853043e-01, 7.36830075e-01, 7.36965153e-01,\n",
       "         1.69390973e-01, 3.51160564e-04]],\n",
       "\n",
       "       [[6.73030941e-01, 7.00739530e-01, 6.79080188e-01, 6.76611965e-01,\n",
       "         1.37915017e-01, 9.65014927e-05],\n",
       "        [6.60391119e-01, 6.89101490e-01, 6.76612110e-01, 6.80074144e-01,\n",
       "         2.32421681e-01, 9.32139694e-05],\n",
       "        [6.76001214e-01, 7.15050148e-01, 6.80074144e-01, 7.08896114e-01,\n",
       "         2.24044877e-01, 8.58056001e-05],\n",
       "        [7.02161040e-01, 7.18755960e-01, 7.08896114e-01, 7.04459980e-01,\n",
       "         1.55811326e-01, 2.25796885e-04],\n",
       "        [6.96105126e-01, 7.44884916e-01, 7.04459835e-01, 7.36832104e-01,\n",
       "         2.40938878e-01, 1.72790082e-04],\n",
       "        [7.31083305e-01, 7.51853043e-01, 7.36830075e-01, 7.36965153e-01,\n",
       "         1.69390973e-01, 3.51160564e-04],\n",
       "        [7.27406189e-01, 7.41607383e-01, 7.36978632e-01, 7.30833439e-01,\n",
       "         8.04033200e-02, 5.75909149e-04]],\n",
       "\n",
       "       [[6.60391119e-01, 6.89101490e-01, 6.76612110e-01, 6.80074144e-01,\n",
       "         2.32421681e-01, 9.32139694e-05],\n",
       "        [6.76001214e-01, 7.15050148e-01, 6.80074144e-01, 7.08896114e-01,\n",
       "         2.24044877e-01, 8.58056001e-05],\n",
       "        [7.02161040e-01, 7.18755960e-01, 7.08896114e-01, 7.04459980e-01,\n",
       "         1.55811326e-01, 2.25796885e-04],\n",
       "        [6.96105126e-01, 7.44884916e-01, 7.04459835e-01, 7.36832104e-01,\n",
       "         2.40938878e-01, 1.72790082e-04],\n",
       "        [7.31083305e-01, 7.51853043e-01, 7.36830075e-01, 7.36965153e-01,\n",
       "         1.69390973e-01, 3.51160564e-04],\n",
       "        [7.27406189e-01, 7.41607383e-01, 7.36978632e-01, 7.30833439e-01,\n",
       "         8.04033200e-02, 5.75909149e-04],\n",
       "        [7.16799354e-01, 7.43399489e-01, 7.30833439e-01, 7.36246426e-01,\n",
       "         9.94305657e-02, 2.69963802e-04]],\n",
       "\n",
       "       [[6.76001214e-01, 7.15050148e-01, 6.80074144e-01, 7.08896114e-01,\n",
       "         2.24044877e-01, 8.58056001e-05],\n",
       "        [7.02161040e-01, 7.18755960e-01, 7.08896114e-01, 7.04459980e-01,\n",
       "         1.55811326e-01, 2.25796885e-04],\n",
       "        [6.96105126e-01, 7.44884916e-01, 7.04459835e-01, 7.36832104e-01,\n",
       "         2.40938878e-01, 1.72790082e-04],\n",
       "        [7.31083305e-01, 7.51853043e-01, 7.36830075e-01, 7.36965153e-01,\n",
       "         1.69390973e-01, 3.51160564e-04],\n",
       "        [7.27406189e-01, 7.41607383e-01, 7.36978632e-01, 7.30833439e-01,\n",
       "         8.04033200e-02, 5.75909149e-04],\n",
       "        [7.16799354e-01, 7.43399489e-01, 7.30833439e-01, 7.36246426e-01,\n",
       "         9.94305657e-02, 2.69963802e-04],\n",
       "        [7.31582602e-01, 7.55061877e-01, 7.36283240e-01, 7.35028693e-01,\n",
       "         1.68035269e-01, 2.23499875e-04]],\n",
       "\n",
       "       [[7.02161040e-01, 7.18755960e-01, 7.08896114e-01, 7.04459980e-01,\n",
       "         1.55811326e-01, 2.25796885e-04],\n",
       "        [6.96105126e-01, 7.44884916e-01, 7.04459835e-01, 7.36832104e-01,\n",
       "         2.40938878e-01, 1.72790082e-04],\n",
       "        [7.31083305e-01, 7.51853043e-01, 7.36830075e-01, 7.36965153e-01,\n",
       "         1.69390973e-01, 3.51160564e-04],\n",
       "        [7.27406189e-01, 7.41607383e-01, 7.36978632e-01, 7.30833439e-01,\n",
       "         8.04033200e-02, 5.75909149e-04],\n",
       "        [7.16799354e-01, 7.43399489e-01, 7.30833439e-01, 7.36246426e-01,\n",
       "         9.94305657e-02, 2.69963802e-04],\n",
       "        [7.31582602e-01, 7.55061877e-01, 7.36283240e-01, 7.35028693e-01,\n",
       "         1.68035269e-01, 2.23499875e-04],\n",
       "        [6.85496987e-01, 7.35066086e-01, 7.35066086e-01, 6.89016849e-01,\n",
       "         3.34996705e-01, 2.34642053e-04]],\n",
       "\n",
       "       [[6.96105126e-01, 7.44884916e-01, 7.04459835e-01, 7.36832104e-01,\n",
       "         2.40938878e-01, 1.72790082e-04],\n",
       "        [7.31083305e-01, 7.51853043e-01, 7.36830075e-01, 7.36965153e-01,\n",
       "         1.69390973e-01, 3.51160564e-04],\n",
       "        [7.27406189e-01, 7.41607383e-01, 7.36978632e-01, 7.30833439e-01,\n",
       "         8.04033200e-02, 5.75909149e-04],\n",
       "        [7.16799354e-01, 7.43399489e-01, 7.30833439e-01, 7.36246426e-01,\n",
       "         9.94305657e-02, 2.69963802e-04],\n",
       "        [7.31582602e-01, 7.55061877e-01, 7.36283240e-01, 7.35028693e-01,\n",
       "         1.68035269e-01, 2.23499875e-04],\n",
       "        [6.85496987e-01, 7.35066086e-01, 7.35066086e-01, 6.89016849e-01,\n",
       "         3.34996705e-01, 2.34642053e-04],\n",
       "        [6.68014927e-01, 6.97806939e-01, 6.89003950e-01, 6.73482120e-01,\n",
       "         2.94553879e-01, 1.90585750e-04]],\n",
       "\n",
       "       [[7.31083305e-01, 7.51853043e-01, 7.36830075e-01, 7.36965153e-01,\n",
       "         1.69390973e-01, 3.51160564e-04],\n",
       "        [7.27406189e-01, 7.41607383e-01, 7.36978632e-01, 7.30833439e-01,\n",
       "         8.04033200e-02, 5.75909149e-04],\n",
       "        [7.16799354e-01, 7.43399489e-01, 7.30833439e-01, 7.36246426e-01,\n",
       "         9.94305657e-02, 2.69963802e-04],\n",
       "        [7.31582602e-01, 7.55061877e-01, 7.36283240e-01, 7.35028693e-01,\n",
       "         1.68035269e-01, 2.23499875e-04],\n",
       "        [6.85496987e-01, 7.35066086e-01, 7.35066086e-01, 6.89016849e-01,\n",
       "         3.34996705e-01, 2.34642053e-04],\n",
       "        [6.68014927e-01, 6.97806939e-01, 6.89003950e-01, 6.73482120e-01,\n",
       "         2.94553879e-01, 1.90585750e-04],\n",
       "        [6.65760047e-01, 6.94568683e-01, 6.73482120e-01, 6.82914991e-01,\n",
       "         3.97273278e-01, 1.24831437e-04]]])"
      ]
     },
     "execution_count": 93,
     "metadata": {},
     "output_type": "execute_result"
    }
   ],
   "source": [
    "testX_last_7_days"
   ]
  },
  {
   "cell_type": "code",
   "execution_count": 94,
   "metadata": {},
   "outputs": [
    {
     "name": "stdout",
     "output_type": "stream",
     "text": [
      "Forecast for the next 7 Days Beyond the actual trading days  [[[46278.11 ]]\n",
      "\n",
      " [[46912.926]]\n",
      "\n",
      " [[47525.37 ]]\n",
      "\n",
      " [[48238.793]]\n",
      "\n",
      " [[48388.527]]\n",
      "\n",
      " [[48010.637]]\n",
      "\n",
      " [[47363.617]]]\n"
     ]
    }
   ],
   "source": [
    "predicted_7_days_forecast_price_test_x = []\n",
    "\n",
    "for i in range(7):\n",
    "    \n",
    "  predicted_forecast_price_test_x = model_from_saved_checkpoint.predict(testX_last_7_days[i:i+1])\n",
    "  \n",
    "  predicted_forecast_price_test_x = scaler_test.inverse_transform(predicted_forecast_price_test_x.reshape(-1, 1))\n",
    "  # print(predicted_forecast_price_test_x)\n",
    "  predicted_7_days_forecast_price_test_x.append(predicted_forecast_price_test_x)\n",
    "  \n",
    "print(\"Forecast for the next 7 Days Beyond the actual trading days \", np.array(predicted_7_days_forecast_price_test_x)) "
   ]
  },
  {
   "cell_type": "code",
   "execution_count": 95,
   "metadata": {},
   "outputs": [
    {
     "data": {
      "text/plain": [
       "(7, 1, 1)"
      ]
     },
     "execution_count": 95,
     "metadata": {},
     "output_type": "execute_result"
    }
   ],
   "source": [
    "predicted_7_days_forecast_price_test_x = np.array(predicted_7_days_forecast_price_test_x)\n",
    "\n",
    "predicted_7_days_forecast_price_test_x.shape"
   ]
  },
  {
   "cell_type": "code",
   "execution_count": 96,
   "metadata": {},
   "outputs": [
    {
     "data": {
      "text/plain": [
       "(53, 1)"
      ]
     },
     "execution_count": 96,
     "metadata": {},
     "output_type": "execute_result"
    }
   ],
   "source": [
    "predicted_btc_price_test_data.shape"
   ]
  },
  {
   "cell_type": "code",
   "execution_count": 97,
   "metadata": {
    "collapsed": true
   },
   "outputs": [
    {
     "data": {
      "text/plain": [
       "array([[59538.63 ],\n",
       "       [60076.074],\n",
       "       [60555.57 ],\n",
       "       [61053.87 ],\n",
       "       [61432.31 ],\n",
       "       [61779.336],\n",
       "       [62007.562],\n",
       "       [62062.1  ],\n",
       "       [61351.88 ],\n",
       "       [60586.   ],\n",
       "       [59400.688],\n",
       "       [58226.945],\n",
       "       [57167.418],\n",
       "       [56341.16 ],\n",
       "       [55510.605],\n",
       "       [55251.906],\n",
       "       [55065.03 ],\n",
       "       [55253.48 ],\n",
       "       [55025.83 ],\n",
       "       [54420.207],\n",
       "       [53875.145],\n",
       "       [53848.227],\n",
       "       [53854.418],\n",
       "       [53828.543],\n",
       "       [53690.883],\n",
       "       [53790.05 ],\n",
       "       [52785.17 ],\n",
       "       [51462.277],\n",
       "       [49951.582],\n",
       "       [48874.254],\n",
       "       [47962.12 ],\n",
       "       [47068.96 ],\n",
       "       [46429.785],\n",
       "       [46850.277],\n",
       "       [47046.1  ],\n",
       "       [46995.566],\n",
       "       [46525.98 ],\n",
       "       [46081.25 ],\n",
       "       [45989.91 ],\n",
       "       [45848.562],\n",
       "       [45639.2  ],\n",
       "       [45314.4  ],\n",
       "       [45289.13 ],\n",
       "       [45302.62 ],\n",
       "       [45526.87 ],\n",
       "       [45647.848],\n",
       "       [46278.105],\n",
       "       [46912.926],\n",
       "       [47525.363],\n",
       "       [48238.785],\n",
       "       [48388.51 ],\n",
       "       [48010.633],\n",
       "       [47363.62 ]], dtype=float32)"
      ]
     },
     "execution_count": 97,
     "metadata": {},
     "output_type": "execute_result"
    }
   ],
   "source": [
    "predicted_btc_price_test_data"
   ]
  },
  {
   "cell_type": "code",
   "execution_count": 98,
   "metadata": {
    "collapsed": true
   },
   "outputs": [
    {
     "data": {
      "text/plain": [
       "array([[[46278.11 ]],\n",
       "\n",
       "       [[46912.926]],\n",
       "\n",
       "       [[47525.37 ]],\n",
       "\n",
       "       [[48238.793]],\n",
       "\n",
       "       [[48388.527]],\n",
       "\n",
       "       [[48010.637]],\n",
       "\n",
       "       [[47363.617]]], dtype=float32)"
      ]
     },
     "execution_count": 98,
     "metadata": {},
     "output_type": "execute_result"
    }
   ],
   "source": [
    "predicted_7_days_forecast_price_test_x"
   ]
  },
  {
   "cell_type": "code",
   "execution_count": 99,
   "metadata": {},
   "outputs": [
    {
     "data": {
      "text/plain": [
       "array([46278.11 , 46912.926, 47525.37 , 48238.793, 48388.527, 48010.637,\n",
       "       47363.617], dtype=float32)"
      ]
     },
     "execution_count": 99,
     "metadata": {},
     "output_type": "execute_result"
    }
   ],
   "source": [
    "predicted_7_days_forecast_price_test_x = predicted_7_days_forecast_price_test_x.flatten()\n",
    "\n",
    "predicted_7_days_forecast_price_test_x"
   ]
  },
  {
   "cell_type": "code",
   "execution_count": 100,
   "metadata": {
    "scrolled": true
   },
   "outputs": [
    {
     "data": {
      "text/plain": [
       "array([59538.63 , 60076.074, 60555.57 , 61053.87 , 61432.31 , 61779.336,\n",
       "       62007.562, 62062.1  , 61351.88 , 60586.   , 59400.688, 58226.945,\n",
       "       57167.418, 56341.16 , 55510.605, 55251.906, 55065.03 , 55253.48 ,\n",
       "       55025.83 , 54420.207, 53875.145, 53848.227, 53854.418, 53828.543,\n",
       "       53690.883, 53790.05 , 52785.17 , 51462.277, 49951.582, 48874.254,\n",
       "       47962.12 , 47068.96 , 46429.785, 46850.277, 47046.1  , 46995.566,\n",
       "       46525.98 , 46081.25 , 45989.91 , 45848.562, 45639.2  , 45314.4  ,\n",
       "       45289.13 , 45302.62 , 45526.87 , 45647.848, 46278.105, 46912.926,\n",
       "       47525.363, 48238.785, 48388.51 , 48010.633, 47363.62 ],\n",
       "      dtype=float32)"
      ]
     },
     "execution_count": 100,
     "metadata": {},
     "output_type": "execute_result"
    }
   ],
   "source": [
    "predicted_btc_price_test_data = predicted_btc_price_test_data.flatten()\n",
    "\n",
    "predicted_btc_price_test_data"
   ]
  },
  {
   "cell_type": "code",
   "execution_count": 101,
   "metadata": {},
   "outputs": [
    {
     "data": {
      "text/plain": [
       "array([59538.63 , 60076.074, 60555.57 , 61053.87 , 61432.31 , 61779.336,\n",
       "       62007.562, 62062.1  , 61351.88 , 60586.   , 59400.688, 58226.945,\n",
       "       57167.418, 56341.16 , 55510.605, 55251.906, 55065.03 , 55253.48 ,\n",
       "       55025.83 , 54420.207, 53875.145, 53848.227, 53854.418, 53828.543,\n",
       "       53690.883, 53790.05 , 52785.17 , 51462.277, 49951.582, 48874.254,\n",
       "       47962.12 , 47068.96 , 46429.785, 46850.277, 47046.1  , 46995.566,\n",
       "       46525.98 , 46081.25 , 45989.91 , 45848.562, 45639.2  , 45314.4  ,\n",
       "       45289.13 , 45302.62 , 45526.87 , 45647.848, 46278.105, 46912.926,\n",
       "       47525.363, 48238.785, 48388.51 , 48010.633, 47363.62 , 46278.11 ,\n",
       "       46912.926, 47525.37 , 48238.793, 48388.527, 48010.637, 47363.617],\n",
       "      dtype=float32)"
      ]
     },
     "execution_count": 101,
     "metadata": {},
     "output_type": "execute_result"
    }
   ],
   "source": [
    "predicted_btc_test_concatenated = np.concatenate((predicted_btc_price_test_data, predicted_7_days_forecast_price_test_x))\n",
    "\n",
    "predicted_btc_test_concatenated\n",
    "\n",
    "# predicted_btc_test_concatenated.shape"
   ]
  },
  {
   "cell_type": "markdown",
   "metadata": {},
   "source": [
    "## Finally Plot entire Predictions of Test Data (including the Future 7-days ) against Actual testY"
   ]
  },
  {
   "cell_type": "code",
   "execution_count": 102,
   "metadata": {},
   "outputs": [
    {
     "data": {
      "image/png": "[encoded data removed]",
      "text/plain": [
       "<Figure size 1152x504 with 1 Axes>"
      ]
     },
     "metadata": {
      "needs_background": "light"
     },
     "output_type": "display_data"
    }
   ],
   "source": [
    "plt.figure(figsize=(16,7))\n",
    "\n",
    "plt.plot(predicted_btc_test_concatenated, 'r', marker='.', label='Predicted Test')\n",
    "\n",
    "plt.plot(test_actual, marker='.', label='Actual Test')\n",
    "\n",
    "plt.legend()\n",
    "\n",
    "plt.show()"
   ]
  },
  {
   "cell_type": "code",
   "execution_count": null,
   "metadata": {},
   "outputs": [],
   "source": []
  },
  {
   "cell_type": "code",
   "execution_count": null,
   "metadata": {},
   "outputs": [],
   "source": []
  },
  {
   "cell_type": "code",
   "execution_count": null,
   "metadata": {},
   "outputs": [],
   "source": [
    "mse = sklearn.metrics.mean_squared_error(actual, predicted)\n",
    "\n",
    "rmse = math.sqrt(mse)"
   ]
  }
 ],
 "metadata": {
  "kernelspec": {
   "display_name": "Python 3",
   "language": "python",
   "name": "python3"
  },
  "language_info": {
   "codemirror_mode": {
    "name": "ipython",
    "version": 3
   },
   "file_extension": ".py",
   "mimetype": "text/x-python",
   "name": "python",
   "nbconvert_exporter": "python",
   "pygments_lexer": "ipython3",
   "version": "3.8.3"
  }
 },
 "nbformat": 4,
 "nbformat_minor": 4
}
